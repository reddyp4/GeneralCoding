{
  "nbformat": 4,
  "nbformat_minor": 0,
  "metadata": {
    "colab": {
      "provenance": [],
      "authorship_tag": "ABX9TyO7/kBBFnbrSqyxI+NcNdaV",
      "include_colab_link": true
    },
    "kernelspec": {
      "name": "python3",
      "display_name": "Python 3"
    },
    "language_info": {
      "name": "python"
    }
  },
  "cells": [
    {
      "cell_type": "markdown",
      "metadata": {
        "id": "view-in-github",
        "colab_type": "text"
      },
      "source": [
        "<a href=\"https://colab.research.google.com/github/reddyp4/GeneralCoding/blob/main/ML_Tutorial_Pandas.ipynb\" target=\"_parent\"><img src=\"https://colab.research.google.com/assets/colab-badge.svg\" alt=\"Open In Colab\"/></a>"
      ]
    },
    {
      "cell_type": "markdown",
      "source": [
        "** Pandas **\n",
        "\n",
        "This colab page is tutorial for Pandas\n",
        "\n",
        "Sections:\n",
        "\n",
        "1) Pandas dataframes\n",
        "\n",
        "2) Dictionaries to data frames\n",
        "\n",
        "3)"
      ],
      "metadata": {
        "id": "z1BeJnNBQuh9"
      }
    },
    {
      "cell_type": "markdown",
      "source": [
        "Types of forms:\n",
        "\n",
        "1) Series: 1-D form (1-column)\n",
        "\n",
        "2) Dataframes: Tabular form (multiple columns)"
      ],
      "metadata": {
        "id": "q9bJTYlIXU4Z"
      }
    },
    {
      "cell_type": "code",
      "source": [
        "import pandas as pd\n",
        "\n",
        "df = pd.read_csv('example.csv')  #converted to dataframe\n",
        "\n",
        "print(type(df)) #print type of dataframe\n",
        "\n",
        "print(df['Column2'])  #print only column named 'Column2'\n",
        "\n",
        "print(type(df['Column2']))  #should be a series - linear data\n",
        "\n",
        "print(df[['Column2','Column3']])  #print two columns only\n",
        "\n",
        "print(df) #print full dataframe"
      ],
      "metadata": {
        "id": "qW7lxCK6X3ak"
      },
      "execution_count": null,
      "outputs": []
    },
    {
      "cell_type": "markdown",
      "source": [
        "** Dictionary to data frame **\n",
        "\n",
        "1) Convert dictionary to data-frame\n",
        "\n",
        "df = pd.DataFrame(#dictionary)\n",
        "\n",
        "2) Convert indices to one of columns\n",
        "\n",
        "df = pd.DataFrame(#dict,index=['Person 1', 'Person 2'])"
      ],
      "metadata": {
        "id": "cpwjptjOakRv"
      }
    },
    {
      "cell_type": "code",
      "source": [
        "my_dict = {\n",
        "    \"Name\": [\"A\",\"B\",\"C\"],\n",
        "    \"Age\": [20,15,30],\n",
        "    \"id\": [1,2,3]\n",
        "}\n",
        "\n",
        "df_dict = pd.DataFrame(my_dict)   #convert dictionary to dataframe\n",
        "\n",
        "print(df_dict)\n",
        "\n",
        "df2_dict = pd.DataFrame(my_dict, index = ['Person1','Person2','Person3']) #use a different index\n",
        "\n",
        "print(df2_dict) #print the dataframe with a different index"
      ],
      "metadata": {
        "colab": {
          "base_uri": "https://localhost:8080/"
        },
        "id": "bY7Z0zN7asvr",
        "outputId": "ef08ed33-5734-4ef5-d6d1-9bccf0593ac7"
      },
      "execution_count": 15,
      "outputs": [
        {
          "output_type": "stream",
          "name": "stdout",
          "text": [
            "  Name  Age  id\n",
            "0    A   20   1\n",
            "1    B   15   2\n",
            "2    C   30   3\n",
            "        Name  Age  id\n",
            "Person1    A   20   1\n",
            "Person2    B   15   2\n",
            "Person3    C   30   3\n"
          ]
        }
      ]
    },
    {
      "cell_type": "markdown",
      "source": [
        "**Print data of second row only** :\n",
        "loc function"
      ],
      "metadata": {
        "id": "I3JP1G9vbm7F"
      }
    },
    {
      "cell_type": "code",
      "source": [
        "print(df2_dict.loc['Person3']) #access only one row, loc = location"
      ],
      "metadata": {
        "id": "W2VgZS-ha1ih"
      },
      "execution_count": null,
      "outputs": []
    },
    {
      "cell_type": "markdown",
      "source": [
        "** Access index1 to index2: ** df.loc['Index1':'Index2]"
      ],
      "metadata": {
        "id": "zSgpUrKSdU9_"
      }
    },
    {
      "cell_type": "code",
      "source": [
        "print(df2_dict)\n",
        "\n",
        "print(df2_dict.loc['Person1':'Person2'])\n"
      ],
      "metadata": {
        "id": "-m5IK4KAdfWy",
        "outputId": "0cd800ac-2664-46a3-b322-9e89bb07ff40",
        "colab": {
          "base_uri": "https://localhost:8080/"
        }
      },
      "execution_count": 29,
      "outputs": [
        {
          "output_type": "stream",
          "name": "stdout",
          "text": [
            "        Name  Age  id\n",
            "Person1    A   20   1\n",
            "Person2    B   15   2\n",
            "Person3    C   30   3\n",
            "        Name  Age  id\n",
            "Person1    A   20   1\n",
            "Person2    B   15   2\n"
          ]
        }
      ]
    }
  ]
}
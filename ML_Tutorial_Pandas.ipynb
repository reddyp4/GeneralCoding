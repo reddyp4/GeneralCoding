{
  "nbformat": 4,
  "nbformat_minor": 0,
  "metadata": {
    "colab": {
      "provenance": [],
      "toc_visible": true,
      "authorship_tag": "ABX9TyPImOQTPOHQ7a6Vl9fasWz8",
      "include_colab_link": true
    },
    "kernelspec": {
      "name": "python3",
      "display_name": "Python 3"
    },
    "language_info": {
      "name": "python"
    }
  },
  "cells": [
    {
      "cell_type": "markdown",
      "metadata": {
        "id": "view-in-github",
        "colab_type": "text"
      },
      "source": [
        "<a href=\"https://colab.research.google.com/github/reddyp4/GeneralCoding/blob/main/ML_Tutorial_Pandas.ipynb\" target=\"_parent\"><img src=\"https://colab.research.google.com/assets/colab-badge.svg\" alt=\"Open In Colab\"/></a>"
      ]
    },
    {
      "cell_type": "markdown",
      "source": [
        "** Pandas **\n",
        "\n",
        "This colab page is tutorial for Pandas\n",
        "\n",
        "Sections:\n",
        "\n",
        "1)"
      ],
      "metadata": {
        "id": "z1BeJnNBQuh9"
      }
    },
    {
      "cell_type": "code",
      "execution_count": null,
      "metadata": {
        "id": "a0DrKwQgQo1S"
      },
      "outputs": [],
      "source": []
    }
  ]
}
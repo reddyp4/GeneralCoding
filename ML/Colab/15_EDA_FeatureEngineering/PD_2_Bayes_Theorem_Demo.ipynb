{
  "nbformat": 4,
  "nbformat_minor": 0,
  "metadata": {
    "colab": {
      "provenance": []
    },
    "kernelspec": {
      "name": "python3",
      "display_name": "Python 3"
    },
    "language_info": {
      "name": "python"
    }
  },
  "cells": [
    {
      "cell_type": "markdown",
      "source": [
        "## Problem Statement"
      ],
      "metadata": {
        "id": "Z8Jaz28mRBEz"
      }
    },
    {
      "cell_type": "markdown",
      "source": [
        "Suppose we have 2 buckets A and B. In bucket A we have 30 blue balls and 10 yellow balls, while in bucket B we have 20 blue and 20 yellow balls. We are required to choose one ball. What is the chance that we choose bucket A?\n",
        "\n",
        "\n",
        "We can say that there is an equal chance for choosing either of the buckets but now from the chosen bucket we picked a blue ball, so the question is what is the chance we pick it from bucket A?"
      ],
      "metadata": {
        "id": "WLrKoBZcREBx"
      }
    },
    {
      "cell_type": "code",
      "execution_count": null,
      "metadata": {
        "id": "lEQLRCoawdMH"
      },
      "outputs": [],
      "source": [
        "#Importing libraries\n",
        "import numpy as np\n",
        "import pandas as pd\n",
        "import matplotlib.pyplot as plt\n",
        "import seaborn as sns"
      ]
    },
    {
      "cell_type": "code",
      "source": [
        "# the hypotheses and prior are:\n",
        "hypos = 'bucket a', 'bucket b'\n",
        "probs= 1/2, 1/2\n",
        "\n",
        "prior = pd.Series(probs, hypos)\n",
        "print(prior)"
      ],
      "metadata": {
        "id": "WdCmJR4oGuyw",
        "colab": {
          "base_uri": "https://localhost:8080/"
        },
        "outputId": "cd40c872-b17d-4524-eaf3-3f26c62f7856"
      },
      "execution_count": null,
      "outputs": [
        {
          "output_type": "stream",
          "name": "stdout",
          "text": [
            "bucket a    0.5\n",
            "bucket b    0.5\n",
            "dtype: float64\n"
          ]
        }
      ]
    },
    {
      "cell_type": "markdown",
      "source": [
        "According to the question, we know that the chances of choosing a blue ball from bucket A is ¾ and from bucket B the chances of choosing any ball or blue ball are ½. This chance or probabilities are our likelihood."
      ],
      "metadata": {
        "id": "2a9ZsKKHRMPp"
      }
    },
    {
      "cell_type": "code",
      "source": [
        "likelihood = 3/4, 1/2\n",
        "\n",
        "# Using the likelihood and prior we can calculate the unnormalized posterior as:\n",
        "unnorm = prior * likelihood\n",
        "print(unnorm)"
      ],
      "metadata": {
        "id": "EajiPAI3Gx5y",
        "colab": {
          "base_uri": "https://localhost:8080/"
        },
        "outputId": "eee9ba0c-8a9d-47ea-bb68-0a920eef538d"
      },
      "execution_count": null,
      "outputs": [
        {
          "output_type": "stream",
          "name": "stdout",
          "text": [
            "bucket a    0.375\n",
            "bucket b    0.250\n",
            "dtype: float64\n"
          ]
        }
      ]
    },
    {
      "cell_type": "markdown",
      "source": [
        "To make the unnormalized posterior normalized posterior we have to divide the unnormalized posterior with the sum of the unnormalized posterior."
      ],
      "metadata": {
        "id": "ngD34rQxRSxr"
      }
    },
    {
      "cell_type": "code",
      "source": [
        "prob_data = unnorm.sum()\n",
        "prob_data"
      ],
      "metadata": {
        "id": "Sl8qNl0eG2rw",
        "colab": {
          "base_uri": "https://localhost:8080/"
        },
        "outputId": "653a0bb1-1245-431c-a913-11b38feda7c7"
      },
      "execution_count": null,
      "outputs": [
        {
          "output_type": "execute_result",
          "data": {
            "text/plain": [
              "0.625"
            ]
          },
          "metadata": {},
          "execution_count": 5
        }
      ]
    },
    {
      "cell_type": "code",
      "source": [
        "posterior = unnorm / prob_data"
      ],
      "metadata": {
        "id": "7JynNYTfG5i3"
      },
      "execution_count": null,
      "outputs": []
    },
    {
      "cell_type": "code",
      "source": [
        "print(posterior)"
      ],
      "metadata": {
        "id": "5N6bBXV3G-ux",
        "colab": {
          "base_uri": "https://localhost:8080/"
        },
        "outputId": "b9a4b170-5953-43ac-85fe-492996b8c4cb"
      },
      "execution_count": null,
      "outputs": [
        {
          "output_type": "stream",
          "name": "stdout",
          "text": [
            "bucket a    0.6\n",
            "bucket b    0.4\n",
            "dtype: float64\n"
          ]
        }
      ]
    },
    {
      "cell_type": "markdown",
      "source": [
        "Here from the results, we can say the posterior probability of choosing bucket A with a blue ball is 0.6.\n",
        "\n",
        "This is an implementation of the Bayes theorem which we had read"
      ],
      "metadata": {
        "id": "XagtJjLlRWzQ"
      }
    },
    {
      "cell_type": "markdown",
      "source": [
        "Now suppose a similar situation as given in the above problem, putting back the previous lifted ball and choosing a ball from the similar bucket and it is a yellow ball. Now, what is the probability that both times we chose bucket A to pick the ball?"
      ],
      "metadata": {
        "id": "IzylC7qdSSCo"
      }
    },
    {
      "cell_type": "code",
      "source": [
        "#Here we can say that the posterior we computed from the first problem can be prior to this problem which means\n",
        "\n",
        "prior = posterior\n",
        "print(prior)"
      ],
      "metadata": {
        "id": "siKDYVZrRV2u",
        "colab": {
          "base_uri": "https://localhost:8080/"
        },
        "outputId": "d3b7318e-c8cb-4138-b576-28b889e51696"
      },
      "execution_count": null,
      "outputs": [
        {
          "output_type": "stream",
          "name": "stdout",
          "text": [
            "bucket a    0.6\n",
            "bucket b    0.4\n",
            "dtype: float64\n"
          ]
        }
      ]
    },
    {
      "cell_type": "code",
      "source": [
        "unnorm = prior * likelihood\n",
        "print(unnorm)"
      ],
      "metadata": {
        "id": "s7S9XmS1SU4B",
        "colab": {
          "base_uri": "https://localhost:8080/"
        },
        "outputId": "b8793259-7b24-466e-f75b-fbd1a1867fdd"
      },
      "execution_count": null,
      "outputs": [
        {
          "output_type": "stream",
          "name": "stdout",
          "text": [
            "bucket a    0.45\n",
            "bucket b    0.20\n",
            "dtype: float64\n"
          ]
        }
      ]
    },
    {
      "cell_type": "code",
      "source": [
        "#Sum of unnormalized posteriors:\n",
        "\n",
        "prob_data = unnorm.sum()\n",
        "prob_data"
      ],
      "metadata": {
        "id": "vS_zQDogSXxw",
        "colab": {
          "base_uri": "https://localhost:8080/"
        },
        "outputId": "d9c7daaf-be35-4c51-a8e3-024811f5024d"
      },
      "execution_count": null,
      "outputs": [
        {
          "output_type": "execute_result",
          "data": {
            "text/plain": [
              "0.6499999999999999"
            ]
          },
          "metadata": {},
          "execution_count": 11
        }
      ]
    },
    {
      "cell_type": "code",
      "source": [
        "posterior = unnorm / prob_data\n",
        "print(posterior)"
      ],
      "metadata": {
        "id": "o45KGXtqSbBz",
        "colab": {
          "base_uri": "https://localhost:8080/"
        },
        "outputId": "9fe7a748-8383-4634-8dab-82bd1eb3372e"
      },
      "execution_count": null,
      "outputs": [
        {
          "output_type": "stream",
          "name": "stdout",
          "text": [
            "bucket a    0.692308\n",
            "bucket b    0.307692\n",
            "dtype: float64\n"
          ]
        }
      ]
    },
    {
      "cell_type": "markdown",
      "source": [
        "Here we can see that the posterior probability for bucket A in the second attempt is 0.428571."
      ],
      "metadata": {
        "id": "Fp5lPBTGSeXO"
      }
    },
    {
      "cell_type": "code",
      "source": [],
      "metadata": {
        "id": "RKCE5BvKScyV"
      },
      "execution_count": null,
      "outputs": []
    }
  ]
}
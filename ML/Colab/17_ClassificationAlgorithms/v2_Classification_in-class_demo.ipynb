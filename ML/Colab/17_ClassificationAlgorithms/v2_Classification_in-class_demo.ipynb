{
  "cells": [
    {
      "cell_type": "markdown",
      "metadata": {
        "id": "oAWC7pNC8pZh"
      },
      "source": [
        "# Problem Description (Kaggle)\n",
        "Suppose you are a **data scientist** working for a **lending institution** that wants to **improve its loan approval process**. The institution has provided you with a dataset containing information about loans issued by LendingClub, an online lending platform.\n",
        "\n",
        "## Task\n",
        "Your task is to analyze this dataset and develop a machine learning model that can accurately **predict whether a loan application should be approved or not.**\n",
        "\n",
        "### Why are we doing this?\n",
        "By accurately predicting loan approval outcomes, your model will assist the lending institution in making informed decisions, reducing the risk of default and improving the overall loan portfolio performance.\n",
        "\n",
        "\n",
        "This will not only streamline the loan approval process but also enable the institution to better assess the creditworthiness of loan applicants, leading to more sound lending practices."
      ]
    },
    {
      "cell_type": "code",
      "execution_count": null,
      "metadata": {
        "id": "wVj9FYvIqSMM"
      },
      "outputs": [],
      "source": [
        "#data taken from https://www.kaggle.com/datasets/husainsb/lendingclub-issued-loans"
      ]
    },
    {
      "cell_type": "code",
      "execution_count": null,
      "metadata": {
        "colab": {
          "base_uri": "https://localhost:8080/"
        },
        "id": "xvJ_1LSDljWP",
        "outputId": "dae30e37-dcfd-49d1-9207-3e782cf1f3d2"
      },
      "outputs": [
        {
          "output_type": "stream",
          "name": "stdout",
          "text": [
            "Drive already mounted at /content/drive; to attempt to forcibly remount, call drive.mount(\"/content/drive\", force_remount=True).\n"
          ]
        }
      ],
      "source": [
        "from google.colab import drive\n",
        "drive.mount('/content/drive')\n"
      ]
    },
    {
      "cell_type": "code",
      "execution_count": null,
      "metadata": {
        "colab": {
          "base_uri": "https://localhost:8080/"
        },
        "id": "eKnOSXzemGxf",
        "outputId": "a800ddaa-4e44-408e-fa08-5051d6de65bf"
      },
      "outputs": [
        {
          "output_type": "stream",
          "name": "stdout",
          "text": [
            "drive  sample_data\n"
          ]
        }
      ],
      "source": [
        "!ls"
      ]
    },
    {
      "cell_type": "code",
      "execution_count": null,
      "metadata": {
        "id": "6NK46KOLl_kk"
      },
      "outputs": [],
      "source": [
        "#!mkdir drive/MyDrive/ML-10-Classification"
      ]
    },
    {
      "cell_type": "markdown",
      "metadata": {
        "id": "uG1Iv9v88z2e"
      },
      "source": [
        "# Importing the Libararies"
      ]
    },
    {
      "cell_type": "code",
      "execution_count": null,
      "metadata": {
        "id": "VHKu7B3l6zDV"
      },
      "outputs": [],
      "source": [
        "from itertools import product\n",
        "import matplotlib.pyplot as plt\n",
        "import pandas as pd\n",
        "import seaborn as sns\n",
        "import string\n",
        "from sklearn.linear_model import LogisticRegression\n",
        "from sklearn.model_selection import train_test_split\n",
        "from sklearn.metrics import accuracy_score\n",
        "from sklearn.preprocessing import PolynomialFeatures\n",
        "from sklearn.pipeline import make_pipeline\n",
        "pd.options.mode.chained_assignment = None"
      ]
    },
    {
      "cell_type": "markdown",
      "metadata": {
        "id": "-N_pntZ-2VTD"
      },
      "source": [
        "## Upload data to colab"
      ]
    },
    {
      "cell_type": "code",
      "execution_count": null,
      "metadata": {
        "colab": {
          "base_uri": "https://localhost:8080/"
        },
        "id": "uEbTaFSz2rOd",
        "outputId": "ded4ea15-bee2-411b-c932-c538780fac26"
      },
      "outputs": [
        {
          "output_type": "stream",
          "name": "stdout",
          "text": [
            " lc_loan.csv\n",
            "'Notes on M9 - Regression Module + Bug Fixes to M10 Colab.gdoc'\n",
            "'[WIP]Andreas'\\''s Copy of Live Class Slides- M10- Classification.gslides'\n",
            "'[WIP]Andreas'\\''s Copy of Live Class Slides- M10- Classification.pdf'\n"
          ]
        }
      ],
      "source": [
        "!ls drive/MyDrive/ML-10-Classification"
      ]
    },
    {
      "cell_type": "markdown",
      "metadata": {
        "id": "1s3JAq_ReCfp"
      },
      "source": [
        "#upload the data provided to you into colab from file ->"
      ]
    },
    {
      "cell_type": "code",
      "execution_count": null,
      "metadata": {
        "colab": {
          "base_uri": "https://localhost:8080/",
          "height": 378
        },
        "id": "DEQV_qXr23B7",
        "outputId": "8847574b-c048-4190-bb84-dfa39d884883"
      },
      "outputs": [
        {
          "output_type": "stream",
          "name": "stderr",
          "text": [
            "<ipython-input-7-58fb8af35d56>:4: DtypeWarning: Columns (19,55) have mixed types. Specify dtype option on import or set low_memory=False.\n",
            "  df = pd.read_csv('drive/MyDrive/ML-10-Classification/lc_loan.csv')\n"
          ]
        },
        {
          "output_type": "execute_result",
          "data": {
            "text/plain": [
              "        id  member_id  loan_amnt  funded_amnt  funded_amnt_inv        term  \\\n",
              "0  1077501    1296599     5000.0       5000.0           4975.0   36 months   \n",
              "1  1077430    1314167     2500.0       2500.0           2500.0   60 months   \n",
              "2  1077175    1313524     2400.0       2400.0           2400.0   36 months   \n",
              "3  1076863    1277178    10000.0      10000.0          10000.0   36 months   \n",
              "4  1075358    1311748     3000.0       3000.0           3000.0   60 months   \n",
              "\n",
              "   int_rate  installment grade sub_grade  ... total_bal_il il_util  \\\n",
              "0     10.65       162.87     B        B2  ...          NaN     NaN   \n",
              "1     15.27        59.83     C        C4  ...          NaN     NaN   \n",
              "2     15.96        84.33     C        C5  ...          NaN     NaN   \n",
              "3     13.49       339.31     C        C1  ...          NaN     NaN   \n",
              "4     12.69        67.79     B        B5  ...          NaN     NaN   \n",
              "\n",
              "  open_rv_12m  open_rv_24m max_bal_bc all_util total_rev_hi_lim inq_fi  \\\n",
              "0         NaN          NaN        NaN      NaN              NaN    NaN   \n",
              "1         NaN          NaN        NaN      NaN              NaN    NaN   \n",
              "2         NaN          NaN        NaN      NaN              NaN    NaN   \n",
              "3         NaN          NaN        NaN      NaN              NaN    NaN   \n",
              "4         NaN          NaN        NaN      NaN              NaN    NaN   \n",
              "\n",
              "  total_cu_tl inq_last_12m  \n",
              "0         NaN          NaN  \n",
              "1         NaN          NaN  \n",
              "2         NaN          NaN  \n",
              "3         NaN          NaN  \n",
              "4         NaN          NaN  \n",
              "\n",
              "[5 rows x 74 columns]"
            ],
            "text/html": [
              "\n",
              "  <div id=\"df-22bcceec-927c-4e19-8fcd-50f991bd32c8\" class=\"colab-df-container\">\n",
              "    <div>\n",
              "<style scoped>\n",
              "    .dataframe tbody tr th:only-of-type {\n",
              "        vertical-align: middle;\n",
              "    }\n",
              "\n",
              "    .dataframe tbody tr th {\n",
              "        vertical-align: top;\n",
              "    }\n",
              "\n",
              "    .dataframe thead th {\n",
              "        text-align: right;\n",
              "    }\n",
              "</style>\n",
              "<table border=\"1\" class=\"dataframe\">\n",
              "  <thead>\n",
              "    <tr style=\"text-align: right;\">\n",
              "      <th></th>\n",
              "      <th>id</th>\n",
              "      <th>member_id</th>\n",
              "      <th>loan_amnt</th>\n",
              "      <th>funded_amnt</th>\n",
              "      <th>funded_amnt_inv</th>\n",
              "      <th>term</th>\n",
              "      <th>int_rate</th>\n",
              "      <th>installment</th>\n",
              "      <th>grade</th>\n",
              "      <th>sub_grade</th>\n",
              "      <th>...</th>\n",
              "      <th>total_bal_il</th>\n",
              "      <th>il_util</th>\n",
              "      <th>open_rv_12m</th>\n",
              "      <th>open_rv_24m</th>\n",
              "      <th>max_bal_bc</th>\n",
              "      <th>all_util</th>\n",
              "      <th>total_rev_hi_lim</th>\n",
              "      <th>inq_fi</th>\n",
              "      <th>total_cu_tl</th>\n",
              "      <th>inq_last_12m</th>\n",
              "    </tr>\n",
              "  </thead>\n",
              "  <tbody>\n",
              "    <tr>\n",
              "      <th>0</th>\n",
              "      <td>1077501</td>\n",
              "      <td>1296599</td>\n",
              "      <td>5000.0</td>\n",
              "      <td>5000.0</td>\n",
              "      <td>4975.0</td>\n",
              "      <td>36 months</td>\n",
              "      <td>10.65</td>\n",
              "      <td>162.87</td>\n",
              "      <td>B</td>\n",
              "      <td>B2</td>\n",
              "      <td>...</td>\n",
              "      <td>NaN</td>\n",
              "      <td>NaN</td>\n",
              "      <td>NaN</td>\n",
              "      <td>NaN</td>\n",
              "      <td>NaN</td>\n",
              "      <td>NaN</td>\n",
              "      <td>NaN</td>\n",
              "      <td>NaN</td>\n",
              "      <td>NaN</td>\n",
              "      <td>NaN</td>\n",
              "    </tr>\n",
              "    <tr>\n",
              "      <th>1</th>\n",
              "      <td>1077430</td>\n",
              "      <td>1314167</td>\n",
              "      <td>2500.0</td>\n",
              "      <td>2500.0</td>\n",
              "      <td>2500.0</td>\n",
              "      <td>60 months</td>\n",
              "      <td>15.27</td>\n",
              "      <td>59.83</td>\n",
              "      <td>C</td>\n",
              "      <td>C4</td>\n",
              "      <td>...</td>\n",
              "      <td>NaN</td>\n",
              "      <td>NaN</td>\n",
              "      <td>NaN</td>\n",
              "      <td>NaN</td>\n",
              "      <td>NaN</td>\n",
              "      <td>NaN</td>\n",
              "      <td>NaN</td>\n",
              "      <td>NaN</td>\n",
              "      <td>NaN</td>\n",
              "      <td>NaN</td>\n",
              "    </tr>\n",
              "    <tr>\n",
              "      <th>2</th>\n",
              "      <td>1077175</td>\n",
              "      <td>1313524</td>\n",
              "      <td>2400.0</td>\n",
              "      <td>2400.0</td>\n",
              "      <td>2400.0</td>\n",
              "      <td>36 months</td>\n",
              "      <td>15.96</td>\n",
              "      <td>84.33</td>\n",
              "      <td>C</td>\n",
              "      <td>C5</td>\n",
              "      <td>...</td>\n",
              "      <td>NaN</td>\n",
              "      <td>NaN</td>\n",
              "      <td>NaN</td>\n",
              "      <td>NaN</td>\n",
              "      <td>NaN</td>\n",
              "      <td>NaN</td>\n",
              "      <td>NaN</td>\n",
              "      <td>NaN</td>\n",
              "      <td>NaN</td>\n",
              "      <td>NaN</td>\n",
              "    </tr>\n",
              "    <tr>\n",
              "      <th>3</th>\n",
              "      <td>1076863</td>\n",
              "      <td>1277178</td>\n",
              "      <td>10000.0</td>\n",
              "      <td>10000.0</td>\n",
              "      <td>10000.0</td>\n",
              "      <td>36 months</td>\n",
              "      <td>13.49</td>\n",
              "      <td>339.31</td>\n",
              "      <td>C</td>\n",
              "      <td>C1</td>\n",
              "      <td>...</td>\n",
              "      <td>NaN</td>\n",
              "      <td>NaN</td>\n",
              "      <td>NaN</td>\n",
              "      <td>NaN</td>\n",
              "      <td>NaN</td>\n",
              "      <td>NaN</td>\n",
              "      <td>NaN</td>\n",
              "      <td>NaN</td>\n",
              "      <td>NaN</td>\n",
              "      <td>NaN</td>\n",
              "    </tr>\n",
              "    <tr>\n",
              "      <th>4</th>\n",
              "      <td>1075358</td>\n",
              "      <td>1311748</td>\n",
              "      <td>3000.0</td>\n",
              "      <td>3000.0</td>\n",
              "      <td>3000.0</td>\n",
              "      <td>60 months</td>\n",
              "      <td>12.69</td>\n",
              "      <td>67.79</td>\n",
              "      <td>B</td>\n",
              "      <td>B5</td>\n",
              "      <td>...</td>\n",
              "      <td>NaN</td>\n",
              "      <td>NaN</td>\n",
              "      <td>NaN</td>\n",
              "      <td>NaN</td>\n",
              "      <td>NaN</td>\n",
              "      <td>NaN</td>\n",
              "      <td>NaN</td>\n",
              "      <td>NaN</td>\n",
              "      <td>NaN</td>\n",
              "      <td>NaN</td>\n",
              "    </tr>\n",
              "  </tbody>\n",
              "</table>\n",
              "<p>5 rows × 74 columns</p>\n",
              "</div>\n",
              "    <div class=\"colab-df-buttons\">\n",
              "\n",
              "  <div class=\"colab-df-container\">\n",
              "    <button class=\"colab-df-convert\" onclick=\"convertToInteractive('df-22bcceec-927c-4e19-8fcd-50f991bd32c8')\"\n",
              "            title=\"Convert this dataframe to an interactive table.\"\n",
              "            style=\"display:none;\">\n",
              "\n",
              "  <svg xmlns=\"http://www.w3.org/2000/svg\" height=\"24px\" viewBox=\"0 -960 960 960\">\n",
              "    <path d=\"M120-120v-720h720v720H120Zm60-500h600v-160H180v160Zm220 220h160v-160H400v160Zm0 220h160v-160H400v160ZM180-400h160v-160H180v160Zm440 0h160v-160H620v160ZM180-180h160v-160H180v160Zm440 0h160v-160H620v160Z\"/>\n",
              "  </svg>\n",
              "    </button>\n",
              "\n",
              "  <style>\n",
              "    .colab-df-container {\n",
              "      display:flex;\n",
              "      gap: 12px;\n",
              "    }\n",
              "\n",
              "    .colab-df-convert {\n",
              "      background-color: #E8F0FE;\n",
              "      border: none;\n",
              "      border-radius: 50%;\n",
              "      cursor: pointer;\n",
              "      display: none;\n",
              "      fill: #1967D2;\n",
              "      height: 32px;\n",
              "      padding: 0 0 0 0;\n",
              "      width: 32px;\n",
              "    }\n",
              "\n",
              "    .colab-df-convert:hover {\n",
              "      background-color: #E2EBFA;\n",
              "      box-shadow: 0px 1px 2px rgba(60, 64, 67, 0.3), 0px 1px 3px 1px rgba(60, 64, 67, 0.15);\n",
              "      fill: #174EA6;\n",
              "    }\n",
              "\n",
              "    .colab-df-buttons div {\n",
              "      margin-bottom: 4px;\n",
              "    }\n",
              "\n",
              "    [theme=dark] .colab-df-convert {\n",
              "      background-color: #3B4455;\n",
              "      fill: #D2E3FC;\n",
              "    }\n",
              "\n",
              "    [theme=dark] .colab-df-convert:hover {\n",
              "      background-color: #434B5C;\n",
              "      box-shadow: 0px 1px 3px 1px rgba(0, 0, 0, 0.15);\n",
              "      filter: drop-shadow(0px 1px 2px rgba(0, 0, 0, 0.3));\n",
              "      fill: #FFFFFF;\n",
              "    }\n",
              "  </style>\n",
              "\n",
              "    <script>\n",
              "      const buttonEl =\n",
              "        document.querySelector('#df-22bcceec-927c-4e19-8fcd-50f991bd32c8 button.colab-df-convert');\n",
              "      buttonEl.style.display =\n",
              "        google.colab.kernel.accessAllowed ? 'block' : 'none';\n",
              "\n",
              "      async function convertToInteractive(key) {\n",
              "        const element = document.querySelector('#df-22bcceec-927c-4e19-8fcd-50f991bd32c8');\n",
              "        const dataTable =\n",
              "          await google.colab.kernel.invokeFunction('convertToInteractive',\n",
              "                                                    [key], {});\n",
              "        if (!dataTable) return;\n",
              "\n",
              "        const docLinkHtml = 'Like what you see? Visit the ' +\n",
              "          '<a target=\"_blank\" href=https://colab.research.google.com/notebooks/data_table.ipynb>data table notebook</a>'\n",
              "          + ' to learn more about interactive tables.';\n",
              "        element.innerHTML = '';\n",
              "        dataTable['output_type'] = 'display_data';\n",
              "        await google.colab.output.renderOutput(dataTable, element);\n",
              "        const docLink = document.createElement('div');\n",
              "        docLink.innerHTML = docLinkHtml;\n",
              "        element.appendChild(docLink);\n",
              "      }\n",
              "    </script>\n",
              "  </div>\n",
              "\n",
              "\n",
              "<div id=\"df-f268a7a6-fb1c-4a94-a9a5-ad830367807d\">\n",
              "  <button class=\"colab-df-quickchart\" onclick=\"quickchart('df-f268a7a6-fb1c-4a94-a9a5-ad830367807d')\"\n",
              "            title=\"Suggest charts.\"\n",
              "            style=\"display:none;\">\n",
              "\n",
              "<svg xmlns=\"http://www.w3.org/2000/svg\" height=\"24px\"viewBox=\"0 0 24 24\"\n",
              "     width=\"24px\">\n",
              "    <g>\n",
              "        <path d=\"M19 3H5c-1.1 0-2 .9-2 2v14c0 1.1.9 2 2 2h14c1.1 0 2-.9 2-2V5c0-1.1-.9-2-2-2zM9 17H7v-7h2v7zm4 0h-2V7h2v10zm4 0h-2v-4h2v4z\"/>\n",
              "    </g>\n",
              "</svg>\n",
              "  </button>\n",
              "\n",
              "<style>\n",
              "  .colab-df-quickchart {\n",
              "      --bg-color: #E8F0FE;\n",
              "      --fill-color: #1967D2;\n",
              "      --hover-bg-color: #E2EBFA;\n",
              "      --hover-fill-color: #174EA6;\n",
              "      --disabled-fill-color: #AAA;\n",
              "      --disabled-bg-color: #DDD;\n",
              "  }\n",
              "\n",
              "  [theme=dark] .colab-df-quickchart {\n",
              "      --bg-color: #3B4455;\n",
              "      --fill-color: #D2E3FC;\n",
              "      --hover-bg-color: #434B5C;\n",
              "      --hover-fill-color: #FFFFFF;\n",
              "      --disabled-bg-color: #3B4455;\n",
              "      --disabled-fill-color: #666;\n",
              "  }\n",
              "\n",
              "  .colab-df-quickchart {\n",
              "    background-color: var(--bg-color);\n",
              "    border: none;\n",
              "    border-radius: 50%;\n",
              "    cursor: pointer;\n",
              "    display: none;\n",
              "    fill: var(--fill-color);\n",
              "    height: 32px;\n",
              "    padding: 0;\n",
              "    width: 32px;\n",
              "  }\n",
              "\n",
              "  .colab-df-quickchart:hover {\n",
              "    background-color: var(--hover-bg-color);\n",
              "    box-shadow: 0 1px 2px rgba(60, 64, 67, 0.3), 0 1px 3px 1px rgba(60, 64, 67, 0.15);\n",
              "    fill: var(--button-hover-fill-color);\n",
              "  }\n",
              "\n",
              "  .colab-df-quickchart-complete:disabled,\n",
              "  .colab-df-quickchart-complete:disabled:hover {\n",
              "    background-color: var(--disabled-bg-color);\n",
              "    fill: var(--disabled-fill-color);\n",
              "    box-shadow: none;\n",
              "  }\n",
              "\n",
              "  .colab-df-spinner {\n",
              "    border: 2px solid var(--fill-color);\n",
              "    border-color: transparent;\n",
              "    border-bottom-color: var(--fill-color);\n",
              "    animation:\n",
              "      spin 1s steps(1) infinite;\n",
              "  }\n",
              "\n",
              "  @keyframes spin {\n",
              "    0% {\n",
              "      border-color: transparent;\n",
              "      border-bottom-color: var(--fill-color);\n",
              "      border-left-color: var(--fill-color);\n",
              "    }\n",
              "    20% {\n",
              "      border-color: transparent;\n",
              "      border-left-color: var(--fill-color);\n",
              "      border-top-color: var(--fill-color);\n",
              "    }\n",
              "    30% {\n",
              "      border-color: transparent;\n",
              "      border-left-color: var(--fill-color);\n",
              "      border-top-color: var(--fill-color);\n",
              "      border-right-color: var(--fill-color);\n",
              "    }\n",
              "    40% {\n",
              "      border-color: transparent;\n",
              "      border-right-color: var(--fill-color);\n",
              "      border-top-color: var(--fill-color);\n",
              "    }\n",
              "    60% {\n",
              "      border-color: transparent;\n",
              "      border-right-color: var(--fill-color);\n",
              "    }\n",
              "    80% {\n",
              "      border-color: transparent;\n",
              "      border-right-color: var(--fill-color);\n",
              "      border-bottom-color: var(--fill-color);\n",
              "    }\n",
              "    90% {\n",
              "      border-color: transparent;\n",
              "      border-bottom-color: var(--fill-color);\n",
              "    }\n",
              "  }\n",
              "</style>\n",
              "\n",
              "  <script>\n",
              "    async function quickchart(key) {\n",
              "      const quickchartButtonEl =\n",
              "        document.querySelector('#' + key + ' button');\n",
              "      quickchartButtonEl.disabled = true;  // To prevent multiple clicks.\n",
              "      quickchartButtonEl.classList.add('colab-df-spinner');\n",
              "      try {\n",
              "        const charts = await google.colab.kernel.invokeFunction(\n",
              "            'suggestCharts', [key], {});\n",
              "      } catch (error) {\n",
              "        console.error('Error during call to suggestCharts:', error);\n",
              "      }\n",
              "      quickchartButtonEl.classList.remove('colab-df-spinner');\n",
              "      quickchartButtonEl.classList.add('colab-df-quickchart-complete');\n",
              "    }\n",
              "    (() => {\n",
              "      let quickchartButtonEl =\n",
              "        document.querySelector('#df-f268a7a6-fb1c-4a94-a9a5-ad830367807d button');\n",
              "      quickchartButtonEl.style.display =\n",
              "        google.colab.kernel.accessAllowed ? 'block' : 'none';\n",
              "    })();\n",
              "  </script>\n",
              "</div>\n",
              "    </div>\n",
              "  </div>\n"
            ]
          },
          "metadata": {},
          "execution_count": 7
        }
      ],
      "source": [
        "import pandas as pd\n",
        "import csv\n",
        "# Reading the csv\n",
        "df = pd.read_csv('drive/MyDrive/ML-10-Classification/lc_loan.csv')\n",
        "df.head()"
      ]
    },
    {
      "cell_type": "markdown",
      "metadata": {
        "id": "AvE-TY8vpB5A"
      },
      "source": [
        "## Data Introduction"
      ]
    },
    {
      "cell_type": "markdown",
      "metadata": {
        "id": "yDAdh-GtVq6L"
      },
      "source": [
        "Let's see what features we got from the data. We need to analyse the features.\n",
        "\n",
        "Note that our outcome of interest is `loan_status`, which dictates whether the loan defaulted ultimately."
      ]
    },
    {
      "cell_type": "code",
      "execution_count": null,
      "metadata": {
        "colab": {
          "base_uri": "https://localhost:8080/"
        },
        "id": "_UmQJs7d35XY",
        "outputId": "a13d0dc1-fffa-4a4e-b280-b94dc1fd09b6"
      },
      "outputs": [
        {
          "output_type": "execute_result",
          "data": {
            "text/plain": [
              "['id',\n",
              " 'member_id',\n",
              " 'loan_amnt',\n",
              " 'funded_amnt',\n",
              " 'funded_amnt_inv',\n",
              " 'term',\n",
              " 'int_rate',\n",
              " 'installment',\n",
              " 'grade',\n",
              " 'sub_grade',\n",
              " 'emp_title',\n",
              " 'emp_length',\n",
              " 'home_ownership',\n",
              " 'annual_inc',\n",
              " 'verification_status',\n",
              " 'issue_d',\n",
              " 'loan_status',\n",
              " 'pymnt_plan',\n",
              " 'url',\n",
              " 'desc',\n",
              " 'purpose',\n",
              " 'title',\n",
              " 'zip_code',\n",
              " 'addr_state',\n",
              " 'dti',\n",
              " 'delinq_2yrs',\n",
              " 'earliest_cr_line',\n",
              " 'inq_last_6mths',\n",
              " 'mths_since_last_delinq',\n",
              " 'mths_since_last_record',\n",
              " 'open_acc',\n",
              " 'pub_rec',\n",
              " 'revol_bal',\n",
              " 'revol_util',\n",
              " 'total_acc',\n",
              " 'initial_list_status',\n",
              " 'out_prncp',\n",
              " 'out_prncp_inv',\n",
              " 'total_pymnt',\n",
              " 'total_pymnt_inv',\n",
              " 'total_rec_prncp',\n",
              " 'total_rec_int',\n",
              " 'total_rec_late_fee',\n",
              " 'recoveries',\n",
              " 'collection_recovery_fee',\n",
              " 'last_pymnt_d',\n",
              " 'last_pymnt_amnt',\n",
              " 'next_pymnt_d',\n",
              " 'last_credit_pull_d',\n",
              " 'collections_12_mths_ex_med',\n",
              " 'mths_since_last_major_derog',\n",
              " 'policy_code',\n",
              " 'application_type',\n",
              " 'annual_inc_joint',\n",
              " 'dti_joint',\n",
              " 'verification_status_joint',\n",
              " 'acc_now_delinq',\n",
              " 'tot_coll_amt',\n",
              " 'tot_cur_bal',\n",
              " 'open_acc_6m',\n",
              " 'open_il_6m',\n",
              " 'open_il_12m',\n",
              " 'open_il_24m',\n",
              " 'mths_since_rcnt_il',\n",
              " 'total_bal_il',\n",
              " 'il_util',\n",
              " 'open_rv_12m',\n",
              " 'open_rv_24m',\n",
              " 'max_bal_bc',\n",
              " 'all_util',\n",
              " 'total_rev_hi_lim',\n",
              " 'inq_fi',\n",
              " 'total_cu_tl',\n",
              " 'inq_last_12m']"
            ]
          },
          "metadata": {},
          "execution_count": 8
        }
      ],
      "source": [
        "df.columns.to_list()"
      ]
    },
    {
      "cell_type": "markdown",
      "metadata": {
        "id": "Om9YAMG024TA"
      },
      "source": [
        "We have around 65-70 features when the id and prediction columns are removed"
      ]
    },
    {
      "cell_type": "code",
      "execution_count": null,
      "metadata": {
        "colab": {
          "base_uri": "https://localhost:8080/"
        },
        "id": "a75S2sMR7-Iw",
        "outputId": "2c8b0b45-9e26-497e-9646-aa85bac5101c"
      },
      "outputs": [
        {
          "output_type": "execute_result",
          "data": {
            "text/plain": [
              "(887379, 74)"
            ]
          },
          "metadata": {},
          "execution_count": 9
        }
      ],
      "source": [
        "df.shape"
      ]
    },
    {
      "cell_type": "code",
      "execution_count": null,
      "metadata": {
        "colab": {
          "base_uri": "https://localhost:8080/"
        },
        "id": "vTgCWlxX8Ilt",
        "outputId": "4bfb5b9a-62da-411d-8a2f-e3a9b9c9c8f7"
      },
      "outputs": [
        {
          "output_type": "execute_result",
          "data": {
            "text/plain": [
              "id                       0\n",
              "member_id                0\n",
              "loan_amnt                0\n",
              "funded_amnt              0\n",
              "funded_amnt_inv          0\n",
              "                     ...  \n",
              "all_util            866007\n",
              "total_rev_hi_lim     70276\n",
              "inq_fi              866007\n",
              "total_cu_tl         866007\n",
              "inq_last_12m        866007\n",
              "Length: 74, dtype: int64"
            ]
          },
          "metadata": {},
          "execution_count": 10
        }
      ],
      "source": [
        "# Notice that some features have as many as ~866k missing values!\n",
        "# Is that a lot? Maybe we should compute it as a proportion!\n",
        "df.isna().sum()"
      ]
    },
    {
      "cell_type": "markdown",
      "metadata": {
        "id": "PmaWxBaqjQ7C"
      },
      "source": [
        "Calculating the percentage of missing value in the data\n",
        "\n",
        "Let's see how much missing values are there"
      ]
    },
    {
      "cell_type": "code",
      "execution_count": null,
      "metadata": {
        "colab": {
          "base_uri": "https://localhost:8080/",
          "height": 101
        },
        "id": "LY53ofis9g6C",
        "outputId": "6e8c545f-20c4-4bac-f387-fbc702e17f7b"
      },
      "outputs": [
        {
          "output_type": "execute_result",
          "data": {
            "text/plain": [
              "             id  member_id  loan_amnt  funded_amnt  funded_amnt_inv  term  \\\n",
              "Percentage  0.0        0.0        0.0          0.0              0.0   0.0   \n",
              "\n",
              "            int_rate  installment  grade  sub_grade  emp_title  emp_length  \\\n",
              "Percentage       0.0          0.0    0.0        0.0   5.799326    5.051393   \n",
              "\n",
              "            home_ownership  annual_inc  verification_status  issue_d  \\\n",
              "Percentage             0.0    0.000451                  0.0      0.0   \n",
              "\n",
              "            loan_status  pymnt_plan  url       desc  purpose     title  \\\n",
              "Percentage          0.0         0.0  0.0  85.797726      0.0  0.017129   \n",
              "\n",
              "            zip_code  addr_state  dti  delinq_2yrs  earliest_cr_line  \\\n",
              "Percentage       0.0         0.0  0.0     0.003268          0.003268   \n",
              "\n",
              "            inq_last_6mths  mths_since_last_delinq  mths_since_last_record  \\\n",
              "Percentage        0.003268               51.197065               84.555303   \n",
              "\n",
              "            open_acc   pub_rec  revol_bal  revol_util  total_acc  \\\n",
              "Percentage  0.003268  0.003268        0.0    0.056571   0.003268   \n",
              "\n",
              "            initial_list_status  out_prncp  out_prncp_inv  total_pymnt  \\\n",
              "Percentage                  0.0        0.0            0.0          0.0   \n",
              "\n",
              "            total_pymnt_inv  total_rec_prncp  total_rec_int  \\\n",
              "Percentage              0.0              0.0            0.0   \n",
              "\n",
              "            total_rec_late_fee  recoveries  collection_recovery_fee  \\\n",
              "Percentage                 0.0         0.0                      0.0   \n",
              "\n",
              "            last_pymnt_d  last_pymnt_amnt  next_pymnt_d  last_credit_pull_d  \\\n",
              "Percentage      1.990018              0.0     28.507661            0.005973   \n",
              "\n",
              "            collections_12_mths_ex_med  mths_since_last_major_derog  \\\n",
              "Percentage                     0.01634                    75.015974   \n",
              "\n",
              "            policy_code  application_type  annual_inc_joint  dti_joint  \\\n",
              "Percentage          0.0               0.0         99.942415   99.94264   \n",
              "\n",
              "            verification_status_joint  acc_now_delinq  tot_coll_amt  \\\n",
              "Percentage                  99.942415        0.003268      7.919502   \n",
              "\n",
              "            tot_cur_bal  open_acc_6m  open_il_6m  open_il_12m  open_il_24m  \\\n",
              "Percentage     7.919502    97.591559   97.591559    97.591559    97.591559   \n",
              "\n",
              "            mths_since_rcnt_il  total_bal_il    il_util  open_rv_12m  \\\n",
              "Percentage           97.654892     97.591559  97.902024    97.591559   \n",
              "\n",
              "            open_rv_24m  max_bal_bc   all_util  total_rev_hi_lim     inq_fi  \\\n",
              "Percentage    97.591559   97.591559  97.591559          7.919502  97.591559   \n",
              "\n",
              "            total_cu_tl  inq_last_12m  \n",
              "Percentage    97.591559     97.591559  "
            ],
            "text/html": [
              "\n",
              "  <div id=\"df-89792d28-c4b6-4bb2-9191-cabd7b335af1\" class=\"colab-df-container\">\n",
              "    <div>\n",
              "<style scoped>\n",
              "    .dataframe tbody tr th:only-of-type {\n",
              "        vertical-align: middle;\n",
              "    }\n",
              "\n",
              "    .dataframe tbody tr th {\n",
              "        vertical-align: top;\n",
              "    }\n",
              "\n",
              "    .dataframe thead th {\n",
              "        text-align: right;\n",
              "    }\n",
              "</style>\n",
              "<table border=\"1\" class=\"dataframe\">\n",
              "  <thead>\n",
              "    <tr style=\"text-align: right;\">\n",
              "      <th></th>\n",
              "      <th>id</th>\n",
              "      <th>member_id</th>\n",
              "      <th>loan_amnt</th>\n",
              "      <th>funded_amnt</th>\n",
              "      <th>funded_amnt_inv</th>\n",
              "      <th>term</th>\n",
              "      <th>int_rate</th>\n",
              "      <th>installment</th>\n",
              "      <th>grade</th>\n",
              "      <th>sub_grade</th>\n",
              "      <th>emp_title</th>\n",
              "      <th>emp_length</th>\n",
              "      <th>home_ownership</th>\n",
              "      <th>annual_inc</th>\n",
              "      <th>verification_status</th>\n",
              "      <th>issue_d</th>\n",
              "      <th>loan_status</th>\n",
              "      <th>pymnt_plan</th>\n",
              "      <th>url</th>\n",
              "      <th>desc</th>\n",
              "      <th>purpose</th>\n",
              "      <th>title</th>\n",
              "      <th>zip_code</th>\n",
              "      <th>addr_state</th>\n",
              "      <th>dti</th>\n",
              "      <th>delinq_2yrs</th>\n",
              "      <th>earliest_cr_line</th>\n",
              "      <th>inq_last_6mths</th>\n",
              "      <th>mths_since_last_delinq</th>\n",
              "      <th>mths_since_last_record</th>\n",
              "      <th>open_acc</th>\n",
              "      <th>pub_rec</th>\n",
              "      <th>revol_bal</th>\n",
              "      <th>revol_util</th>\n",
              "      <th>total_acc</th>\n",
              "      <th>initial_list_status</th>\n",
              "      <th>out_prncp</th>\n",
              "      <th>out_prncp_inv</th>\n",
              "      <th>total_pymnt</th>\n",
              "      <th>total_pymnt_inv</th>\n",
              "      <th>total_rec_prncp</th>\n",
              "      <th>total_rec_int</th>\n",
              "      <th>total_rec_late_fee</th>\n",
              "      <th>recoveries</th>\n",
              "      <th>collection_recovery_fee</th>\n",
              "      <th>last_pymnt_d</th>\n",
              "      <th>last_pymnt_amnt</th>\n",
              "      <th>next_pymnt_d</th>\n",
              "      <th>last_credit_pull_d</th>\n",
              "      <th>collections_12_mths_ex_med</th>\n",
              "      <th>mths_since_last_major_derog</th>\n",
              "      <th>policy_code</th>\n",
              "      <th>application_type</th>\n",
              "      <th>annual_inc_joint</th>\n",
              "      <th>dti_joint</th>\n",
              "      <th>verification_status_joint</th>\n",
              "      <th>acc_now_delinq</th>\n",
              "      <th>tot_coll_amt</th>\n",
              "      <th>tot_cur_bal</th>\n",
              "      <th>open_acc_6m</th>\n",
              "      <th>open_il_6m</th>\n",
              "      <th>open_il_12m</th>\n",
              "      <th>open_il_24m</th>\n",
              "      <th>mths_since_rcnt_il</th>\n",
              "      <th>total_bal_il</th>\n",
              "      <th>il_util</th>\n",
              "      <th>open_rv_12m</th>\n",
              "      <th>open_rv_24m</th>\n",
              "      <th>max_bal_bc</th>\n",
              "      <th>all_util</th>\n",
              "      <th>total_rev_hi_lim</th>\n",
              "      <th>inq_fi</th>\n",
              "      <th>total_cu_tl</th>\n",
              "      <th>inq_last_12m</th>\n",
              "    </tr>\n",
              "  </thead>\n",
              "  <tbody>\n",
              "    <tr>\n",
              "      <th>Percentage</th>\n",
              "      <td>0.0</td>\n",
              "      <td>0.0</td>\n",
              "      <td>0.0</td>\n",
              "      <td>0.0</td>\n",
              "      <td>0.0</td>\n",
              "      <td>0.0</td>\n",
              "      <td>0.0</td>\n",
              "      <td>0.0</td>\n",
              "      <td>0.0</td>\n",
              "      <td>0.0</td>\n",
              "      <td>5.799326</td>\n",
              "      <td>5.051393</td>\n",
              "      <td>0.0</td>\n",
              "      <td>0.000451</td>\n",
              "      <td>0.0</td>\n",
              "      <td>0.0</td>\n",
              "      <td>0.0</td>\n",
              "      <td>0.0</td>\n",
              "      <td>0.0</td>\n",
              "      <td>85.797726</td>\n",
              "      <td>0.0</td>\n",
              "      <td>0.017129</td>\n",
              "      <td>0.0</td>\n",
              "      <td>0.0</td>\n",
              "      <td>0.0</td>\n",
              "      <td>0.003268</td>\n",
              "      <td>0.003268</td>\n",
              "      <td>0.003268</td>\n",
              "      <td>51.197065</td>\n",
              "      <td>84.555303</td>\n",
              "      <td>0.003268</td>\n",
              "      <td>0.003268</td>\n",
              "      <td>0.0</td>\n",
              "      <td>0.056571</td>\n",
              "      <td>0.003268</td>\n",
              "      <td>0.0</td>\n",
              "      <td>0.0</td>\n",
              "      <td>0.0</td>\n",
              "      <td>0.0</td>\n",
              "      <td>0.0</td>\n",
              "      <td>0.0</td>\n",
              "      <td>0.0</td>\n",
              "      <td>0.0</td>\n",
              "      <td>0.0</td>\n",
              "      <td>0.0</td>\n",
              "      <td>1.990018</td>\n",
              "      <td>0.0</td>\n",
              "      <td>28.507661</td>\n",
              "      <td>0.005973</td>\n",
              "      <td>0.01634</td>\n",
              "      <td>75.015974</td>\n",
              "      <td>0.0</td>\n",
              "      <td>0.0</td>\n",
              "      <td>99.942415</td>\n",
              "      <td>99.94264</td>\n",
              "      <td>99.942415</td>\n",
              "      <td>0.003268</td>\n",
              "      <td>7.919502</td>\n",
              "      <td>7.919502</td>\n",
              "      <td>97.591559</td>\n",
              "      <td>97.591559</td>\n",
              "      <td>97.591559</td>\n",
              "      <td>97.591559</td>\n",
              "      <td>97.654892</td>\n",
              "      <td>97.591559</td>\n",
              "      <td>97.902024</td>\n",
              "      <td>97.591559</td>\n",
              "      <td>97.591559</td>\n",
              "      <td>97.591559</td>\n",
              "      <td>97.591559</td>\n",
              "      <td>7.919502</td>\n",
              "      <td>97.591559</td>\n",
              "      <td>97.591559</td>\n",
              "      <td>97.591559</td>\n",
              "    </tr>\n",
              "  </tbody>\n",
              "</table>\n",
              "</div>\n",
              "    <div class=\"colab-df-buttons\">\n",
              "\n",
              "  <div class=\"colab-df-container\">\n",
              "    <button class=\"colab-df-convert\" onclick=\"convertToInteractive('df-89792d28-c4b6-4bb2-9191-cabd7b335af1')\"\n",
              "            title=\"Convert this dataframe to an interactive table.\"\n",
              "            style=\"display:none;\">\n",
              "\n",
              "  <svg xmlns=\"http://www.w3.org/2000/svg\" height=\"24px\" viewBox=\"0 -960 960 960\">\n",
              "    <path d=\"M120-120v-720h720v720H120Zm60-500h600v-160H180v160Zm220 220h160v-160H400v160Zm0 220h160v-160H400v160ZM180-400h160v-160H180v160Zm440 0h160v-160H620v160ZM180-180h160v-160H180v160Zm440 0h160v-160H620v160Z\"/>\n",
              "  </svg>\n",
              "    </button>\n",
              "\n",
              "  <style>\n",
              "    .colab-df-container {\n",
              "      display:flex;\n",
              "      gap: 12px;\n",
              "    }\n",
              "\n",
              "    .colab-df-convert {\n",
              "      background-color: #E8F0FE;\n",
              "      border: none;\n",
              "      border-radius: 50%;\n",
              "      cursor: pointer;\n",
              "      display: none;\n",
              "      fill: #1967D2;\n",
              "      height: 32px;\n",
              "      padding: 0 0 0 0;\n",
              "      width: 32px;\n",
              "    }\n",
              "\n",
              "    .colab-df-convert:hover {\n",
              "      background-color: #E2EBFA;\n",
              "      box-shadow: 0px 1px 2px rgba(60, 64, 67, 0.3), 0px 1px 3px 1px rgba(60, 64, 67, 0.15);\n",
              "      fill: #174EA6;\n",
              "    }\n",
              "\n",
              "    .colab-df-buttons div {\n",
              "      margin-bottom: 4px;\n",
              "    }\n",
              "\n",
              "    [theme=dark] .colab-df-convert {\n",
              "      background-color: #3B4455;\n",
              "      fill: #D2E3FC;\n",
              "    }\n",
              "\n",
              "    [theme=dark] .colab-df-convert:hover {\n",
              "      background-color: #434B5C;\n",
              "      box-shadow: 0px 1px 3px 1px rgba(0, 0, 0, 0.15);\n",
              "      filter: drop-shadow(0px 1px 2px rgba(0, 0, 0, 0.3));\n",
              "      fill: #FFFFFF;\n",
              "    }\n",
              "  </style>\n",
              "\n",
              "    <script>\n",
              "      const buttonEl =\n",
              "        document.querySelector('#df-89792d28-c4b6-4bb2-9191-cabd7b335af1 button.colab-df-convert');\n",
              "      buttonEl.style.display =\n",
              "        google.colab.kernel.accessAllowed ? 'block' : 'none';\n",
              "\n",
              "      async function convertToInteractive(key) {\n",
              "        const element = document.querySelector('#df-89792d28-c4b6-4bb2-9191-cabd7b335af1');\n",
              "        const dataTable =\n",
              "          await google.colab.kernel.invokeFunction('convertToInteractive',\n",
              "                                                    [key], {});\n",
              "        if (!dataTable) return;\n",
              "\n",
              "        const docLinkHtml = 'Like what you see? Visit the ' +\n",
              "          '<a target=\"_blank\" href=https://colab.research.google.com/notebooks/data_table.ipynb>data table notebook</a>'\n",
              "          + ' to learn more about interactive tables.';\n",
              "        element.innerHTML = '';\n",
              "        dataTable['output_type'] = 'display_data';\n",
              "        await google.colab.output.renderOutput(dataTable, element);\n",
              "        const docLink = document.createElement('div');\n",
              "        docLink.innerHTML = docLinkHtml;\n",
              "        element.appendChild(docLink);\n",
              "      }\n",
              "    </script>\n",
              "  </div>\n",
              "\n",
              "    </div>\n",
              "  </div>\n"
            ]
          },
          "metadata": {},
          "execution_count": 11
        }
      ],
      "source": [
        "# Calculate the percentage of missing values in df_read\n",
        "percentage_missing = df.isnull().sum() / len(df) * 100\n",
        "\n",
        "# Create a new DataFrame with columns from df and index set to None\n",
        "new_df = pd.DataFrame(columns=df.columns, index=None)\n",
        "pd.set_option('display.max_columns', None)\n",
        "\n",
        "# Creating new Percentage index\n",
        "new_df.loc['Percentage'] = percentage_missing.values\n",
        "new_df"
      ]
    },
    {
      "cell_type": "markdown",
      "metadata": {
        "id": "AOcJE0zM2Eyt"
      },
      "source": [
        "### Visualizing the percentage of missing values across columns using a Density Plot"
      ]
    },
    {
      "cell_type": "code",
      "execution_count": null,
      "metadata": {
        "colab": {
          "base_uri": "https://localhost:8080/",
          "height": 478
        },
        "id": "alRfyN380rYA",
        "outputId": "446eabfa-df08-4304-9ffa-8570f40a0f48"
      },
      "outputs": [
        {
          "output_type": "display_data",
          "data": {
            "text/plain": [
              "<Figure size 640x480 with 1 Axes>"
            ],
            "image/png": "[encoded data removed]"
          },
          "metadata": {}
        }
      ],
      "source": [
        "sns.kdeplot(percentage_missing, bw_adjust=0.1)  # Kernel Density Estimate.\n",
        "plt.suptitle(\"Distribution of %-missing values in each column\")\n",
        "plt.title(\n",
        "    \"Most variables have close(r) to 0% missing, but some variables have almost\"\n",
        "    \" 100% missing values!\"\n",
        ")\n",
        "plt.show()"
      ]
    },
    {
      "cell_type": "markdown",
      "metadata": {
        "id": "S9FL94OK2NG5"
      },
      "source": [
        "### Why do Missing Values Matter?"
      ]
    },
    {
      "cell_type": "markdown",
      "metadata": {
        "id": "OJbxh40SjfSx"
      },
      "source": [
        "Missing values can have a significant *impact on the performance and reliability* of machine learning models.\n",
        "\n",
        "How to handle the missing value that is completely dependent on the problem you have.\n",
        "\n",
        "Here, we will keep only those features which has less than of 20% missing values."
      ]
    },
    {
      "cell_type": "code",
      "execution_count": null,
      "metadata": {
        "colab": {
          "base_uri": "https://localhost:8080/"
        },
        "id": "YpVHRNi0_crw",
        "outputId": "3f283ff0-5650-45f2-e98d-04aaab6102cb"
      },
      "outputs": [
        {
          "output_type": "stream",
          "name": "stdout",
          "text": [
            "Total features before: 74\n",
            "Total features now: 52\n"
          ]
        }
      ],
      "source": [
        "# Keeping only those features with less than 20% of missing values\n",
        "percentage_missing = df.isnull().sum() / len(df) * 100\n",
        "features_to_keep = df.columns[percentage_missing < 20]\n",
        "print(\"Total features before:\",len(df.columns))\n",
        "print(\"Total features now:\",len(features_to_keep))"
      ]
    },
    {
      "cell_type": "markdown",
      "metadata": {
        "id": "270TIRYaak_Q"
      },
      "source": [
        "Only keeping those features with lees than of 20% missing value"
      ]
    },
    {
      "cell_type": "code",
      "execution_count": null,
      "metadata": {
        "colab": {
          "base_uri": "https://localhost:8080/"
        },
        "id": "6aUyp84gOhCv",
        "outputId": "68e4dbf6-76d0-49c2-d40e-5576ea9ab9f4"
      },
      "outputs": [
        {
          "output_type": "execute_result",
          "data": {
            "text/plain": [
              "(887379, 52)"
            ]
          },
          "metadata": {},
          "execution_count": 14
        }
      ],
      "source": [
        "df1=df[features_to_keep]\n",
        "df1.shape"
      ]
    },
    {
      "cell_type": "markdown",
      "metadata": {
        "id": "nKBFcTs0a0KW"
      },
      "source": [
        "#### Use business intuition to subset features further\n",
        "List of 21 features: Perhaps we inspected our data and decided that of the 52 features with <20% missing values, that these are likely the most explanatory/related to the response variable of interest."
      ]
    },
    {
      "cell_type": "code",
      "execution_count": null,
      "metadata": {
        "colab": {
          "base_uri": "https://localhost:8080/"
        },
        "id": "DmaCwWbnEeCr",
        "outputId": "9a86311a-d2e4-4ef2-8877-de26f451ff9b"
      },
      "outputs": [
        {
          "output_type": "stream",
          "name": "stdout",
          "text": [
            "21\n"
          ]
        }
      ],
      "source": [
        "features=['loan_amnt','term', 'int_rate', 'installment', 'grade', 'sub_grade','emp_length','home_ownership',\n",
        "          'annual_inc','verification_status','purpose','dti','delinq_2yrs','inq_last_6mths','open_acc',\n",
        "          'pub_rec','revol_bal','revol_util','total_acc','last_pymnt_amnt','loan_status']\n",
        "print(len(features))"
      ]
    },
    {
      "cell_type": "markdown",
      "metadata": {
        "id": "W1I2GiY9a5hX"
      },
      "source": [
        "Keeping only those 21 features"
      ]
    },
    {
      "cell_type": "code",
      "execution_count": null,
      "metadata": {
        "colab": {
          "base_uri": "https://localhost:8080/",
          "height": 331
        },
        "id": "Sgj0ye3AN_eX",
        "outputId": "7885e4bc-5e8e-43d0-efdd-5368f6bcd0e0"
      },
      "outputs": [
        {
          "output_type": "stream",
          "name": "stdout",
          "text": [
            "Shape of the dataset: (887379, 21)\n"
          ]
        },
        {
          "output_type": "execute_result",
          "data": {
            "text/plain": [
              "   loan_amnt        term  int_rate  installment grade sub_grade emp_length  \\\n",
              "0     5000.0   36 months     10.65       162.87     B        B2  10+ years   \n",
              "1     2500.0   60 months     15.27        59.83     C        C4   < 1 year   \n",
              "2     2400.0   36 months     15.96        84.33     C        C5  10+ years   \n",
              "3    10000.0   36 months     13.49       339.31     C        C1  10+ years   \n",
              "4     3000.0   60 months     12.69        67.79     B        B5     1 year   \n",
              "\n",
              "  home_ownership  annual_inc verification_status         purpose    dti  \\\n",
              "0           RENT     24000.0            Verified     credit_card  27.65   \n",
              "1           RENT     30000.0     Source Verified             car   1.00   \n",
              "2           RENT     12252.0        Not Verified  small_business   8.72   \n",
              "3           RENT     49200.0     Source Verified           other  20.00   \n",
              "4           RENT     80000.0     Source Verified           other  17.94   \n",
              "\n",
              "   delinq_2yrs  inq_last_6mths  open_acc  pub_rec  revol_bal  revol_util  \\\n",
              "0          0.0             1.0       3.0      0.0    13648.0        83.7   \n",
              "1          0.0             5.0       3.0      0.0     1687.0         9.4   \n",
              "2          0.0             2.0       2.0      0.0     2956.0        98.5   \n",
              "3          0.0             1.0      10.0      0.0     5598.0        21.0   \n",
              "4          0.0             0.0      15.0      0.0    27783.0        53.9   \n",
              "\n",
              "   total_acc  last_pymnt_amnt  loan_status  \n",
              "0        9.0           171.62   Fully Paid  \n",
              "1        4.0           119.66  Charged Off  \n",
              "2       10.0           649.91   Fully Paid  \n",
              "3       37.0           357.48   Fully Paid  \n",
              "4       38.0            67.79      Current  "
            ],
            "text/html": [
              "\n",
              "  <div id=\"df-5255de65-0dac-43f9-827d-f6871b7028a0\" class=\"colab-df-container\">\n",
              "    <div>\n",
              "<style scoped>\n",
              "    .dataframe tbody tr th:only-of-type {\n",
              "        vertical-align: middle;\n",
              "    }\n",
              "\n",
              "    .dataframe tbody tr th {\n",
              "        vertical-align: top;\n",
              "    }\n",
              "\n",
              "    .dataframe thead th {\n",
              "        text-align: right;\n",
              "    }\n",
              "</style>\n",
              "<table border=\"1\" class=\"dataframe\">\n",
              "  <thead>\n",
              "    <tr style=\"text-align: right;\">\n",
              "      <th></th>\n",
              "      <th>loan_amnt</th>\n",
              "      <th>term</th>\n",
              "      <th>int_rate</th>\n",
              "      <th>installment</th>\n",
              "      <th>grade</th>\n",
              "      <th>sub_grade</th>\n",
              "      <th>emp_length</th>\n",
              "      <th>home_ownership</th>\n",
              "      <th>annual_inc</th>\n",
              "      <th>verification_status</th>\n",
              "      <th>purpose</th>\n",
              "      <th>dti</th>\n",
              "      <th>delinq_2yrs</th>\n",
              "      <th>inq_last_6mths</th>\n",
              "      <th>open_acc</th>\n",
              "      <th>pub_rec</th>\n",
              "      <th>revol_bal</th>\n",
              "      <th>revol_util</th>\n",
              "      <th>total_acc</th>\n",
              "      <th>last_pymnt_amnt</th>\n",
              "      <th>loan_status</th>\n",
              "    </tr>\n",
              "  </thead>\n",
              "  <tbody>\n",
              "    <tr>\n",
              "      <th>0</th>\n",
              "      <td>5000.0</td>\n",
              "      <td>36 months</td>\n",
              "      <td>10.65</td>\n",
              "      <td>162.87</td>\n",
              "      <td>B</td>\n",
              "      <td>B2</td>\n",
              "      <td>10+ years</td>\n",
              "      <td>RENT</td>\n",
              "      <td>24000.0</td>\n",
              "      <td>Verified</td>\n",
              "      <td>credit_card</td>\n",
              "      <td>27.65</td>\n",
              "      <td>0.0</td>\n",
              "      <td>1.0</td>\n",
              "      <td>3.0</td>\n",
              "      <td>0.0</td>\n",
              "      <td>13648.0</td>\n",
              "      <td>83.7</td>\n",
              "      <td>9.0</td>\n",
              "      <td>171.62</td>\n",
              "      <td>Fully Paid</td>\n",
              "    </tr>\n",
              "    <tr>\n",
              "      <th>1</th>\n",
              "      <td>2500.0</td>\n",
              "      <td>60 months</td>\n",
              "      <td>15.27</td>\n",
              "      <td>59.83</td>\n",
              "      <td>C</td>\n",
              "      <td>C4</td>\n",
              "      <td>&lt; 1 year</td>\n",
              "      <td>RENT</td>\n",
              "      <td>30000.0</td>\n",
              "      <td>Source Verified</td>\n",
              "      <td>car</td>\n",
              "      <td>1.00</td>\n",
              "      <td>0.0</td>\n",
              "      <td>5.0</td>\n",
              "      <td>3.0</td>\n",
              "      <td>0.0</td>\n",
              "      <td>1687.0</td>\n",
              "      <td>9.4</td>\n",
              "      <td>4.0</td>\n",
              "      <td>119.66</td>\n",
              "      <td>Charged Off</td>\n",
              "    </tr>\n",
              "    <tr>\n",
              "      <th>2</th>\n",
              "      <td>2400.0</td>\n",
              "      <td>36 months</td>\n",
              "      <td>15.96</td>\n",
              "      <td>84.33</td>\n",
              "      <td>C</td>\n",
              "      <td>C5</td>\n",
              "      <td>10+ years</td>\n",
              "      <td>RENT</td>\n",
              "      <td>12252.0</td>\n",
              "      <td>Not Verified</td>\n",
              "      <td>small_business</td>\n",
              "      <td>8.72</td>\n",
              "      <td>0.0</td>\n",
              "      <td>2.0</td>\n",
              "      <td>2.0</td>\n",
              "      <td>0.0</td>\n",
              "      <td>2956.0</td>\n",
              "      <td>98.5</td>\n",
              "      <td>10.0</td>\n",
              "      <td>649.91</td>\n",
              "      <td>Fully Paid</td>\n",
              "    </tr>\n",
              "    <tr>\n",
              "      <th>3</th>\n",
              "      <td>10000.0</td>\n",
              "      <td>36 months</td>\n",
              "      <td>13.49</td>\n",
              "      <td>339.31</td>\n",
              "      <td>C</td>\n",
              "      <td>C1</td>\n",
              "      <td>10+ years</td>\n",
              "      <td>RENT</td>\n",
              "      <td>49200.0</td>\n",
              "      <td>Source Verified</td>\n",
              "      <td>other</td>\n",
              "      <td>20.00</td>\n",
              "      <td>0.0</td>\n",
              "      <td>1.0</td>\n",
              "      <td>10.0</td>\n",
              "      <td>0.0</td>\n",
              "      <td>5598.0</td>\n",
              "      <td>21.0</td>\n",
              "      <td>37.0</td>\n",
              "      <td>357.48</td>\n",
              "      <td>Fully Paid</td>\n",
              "    </tr>\n",
              "    <tr>\n",
              "      <th>4</th>\n",
              "      <td>3000.0</td>\n",
              "      <td>60 months</td>\n",
              "      <td>12.69</td>\n",
              "      <td>67.79</td>\n",
              "      <td>B</td>\n",
              "      <td>B5</td>\n",
              "      <td>1 year</td>\n",
              "      <td>RENT</td>\n",
              "      <td>80000.0</td>\n",
              "      <td>Source Verified</td>\n",
              "      <td>other</td>\n",
              "      <td>17.94</td>\n",
              "      <td>0.0</td>\n",
              "      <td>0.0</td>\n",
              "      <td>15.0</td>\n",
              "      <td>0.0</td>\n",
              "      <td>27783.0</td>\n",
              "      <td>53.9</td>\n",
              "      <td>38.0</td>\n",
              "      <td>67.79</td>\n",
              "      <td>Current</td>\n",
              "    </tr>\n",
              "  </tbody>\n",
              "</table>\n",
              "</div>\n",
              "    <div class=\"colab-df-buttons\">\n",
              "\n",
              "  <div class=\"colab-df-container\">\n",
              "    <button class=\"colab-df-convert\" onclick=\"convertToInteractive('df-5255de65-0dac-43f9-827d-f6871b7028a0')\"\n",
              "            title=\"Convert this dataframe to an interactive table.\"\n",
              "            style=\"display:none;\">\n",
              "\n",
              "  <svg xmlns=\"http://www.w3.org/2000/svg\" height=\"24px\" viewBox=\"0 -960 960 960\">\n",
              "    <path d=\"M120-120v-720h720v720H120Zm60-500h600v-160H180v160Zm220 220h160v-160H400v160Zm0 220h160v-160H400v160ZM180-400h160v-160H180v160Zm440 0h160v-160H620v160ZM180-180h160v-160H180v160Zm440 0h160v-160H620v160Z\"/>\n",
              "  </svg>\n",
              "    </button>\n",
              "\n",
              "  <style>\n",
              "    .colab-df-container {\n",
              "      display:flex;\n",
              "      gap: 12px;\n",
              "    }\n",
              "\n",
              "    .colab-df-convert {\n",
              "      background-color: #E8F0FE;\n",
              "      border: none;\n",
              "      border-radius: 50%;\n",
              "      cursor: pointer;\n",
              "      display: none;\n",
              "      fill: #1967D2;\n",
              "      height: 32px;\n",
              "      padding: 0 0 0 0;\n",
              "      width: 32px;\n",
              "    }\n",
              "\n",
              "    .colab-df-convert:hover {\n",
              "      background-color: #E2EBFA;\n",
              "      box-shadow: 0px 1px 2px rgba(60, 64, 67, 0.3), 0px 1px 3px 1px rgba(60, 64, 67, 0.15);\n",
              "      fill: #174EA6;\n",
              "    }\n",
              "\n",
              "    .colab-df-buttons div {\n",
              "      margin-bottom: 4px;\n",
              "    }\n",
              "\n",
              "    [theme=dark] .colab-df-convert {\n",
              "      background-color: #3B4455;\n",
              "      fill: #D2E3FC;\n",
              "    }\n",
              "\n",
              "    [theme=dark] .colab-df-convert:hover {\n",
              "      background-color: #434B5C;\n",
              "      box-shadow: 0px 1px 3px 1px rgba(0, 0, 0, 0.15);\n",
              "      filter: drop-shadow(0px 1px 2px rgba(0, 0, 0, 0.3));\n",
              "      fill: #FFFFFF;\n",
              "    }\n",
              "  </style>\n",
              "\n",
              "    <script>\n",
              "      const buttonEl =\n",
              "        document.querySelector('#df-5255de65-0dac-43f9-827d-f6871b7028a0 button.colab-df-convert');\n",
              "      buttonEl.style.display =\n",
              "        google.colab.kernel.accessAllowed ? 'block' : 'none';\n",
              "\n",
              "      async function convertToInteractive(key) {\n",
              "        const element = document.querySelector('#df-5255de65-0dac-43f9-827d-f6871b7028a0');\n",
              "        const dataTable =\n",
              "          await google.colab.kernel.invokeFunction('convertToInteractive',\n",
              "                                                    [key], {});\n",
              "        if (!dataTable) return;\n",
              "\n",
              "        const docLinkHtml = 'Like what you see? Visit the ' +\n",
              "          '<a target=\"_blank\" href=https://colab.research.google.com/notebooks/data_table.ipynb>data table notebook</a>'\n",
              "          + ' to learn more about interactive tables.';\n",
              "        element.innerHTML = '';\n",
              "        dataTable['output_type'] = 'display_data';\n",
              "        await google.colab.output.renderOutput(dataTable, element);\n",
              "        const docLink = document.createElement('div');\n",
              "        docLink.innerHTML = docLinkHtml;\n",
              "        element.appendChild(docLink);\n",
              "      }\n",
              "    </script>\n",
              "  </div>\n",
              "\n",
              "\n",
              "<div id=\"df-9cbc68ce-033b-41e4-8f70-38e2ae05ab24\">\n",
              "  <button class=\"colab-df-quickchart\" onclick=\"quickchart('df-9cbc68ce-033b-41e4-8f70-38e2ae05ab24')\"\n",
              "            title=\"Suggest charts.\"\n",
              "            style=\"display:none;\">\n",
              "\n",
              "<svg xmlns=\"http://www.w3.org/2000/svg\" height=\"24px\"viewBox=\"0 0 24 24\"\n",
              "     width=\"24px\">\n",
              "    <g>\n",
              "        <path d=\"M19 3H5c-1.1 0-2 .9-2 2v14c0 1.1.9 2 2 2h14c1.1 0 2-.9 2-2V5c0-1.1-.9-2-2-2zM9 17H7v-7h2v7zm4 0h-2V7h2v10zm4 0h-2v-4h2v4z\"/>\n",
              "    </g>\n",
              "</svg>\n",
              "  </button>\n",
              "\n",
              "<style>\n",
              "  .colab-df-quickchart {\n",
              "      --bg-color: #E8F0FE;\n",
              "      --fill-color: #1967D2;\n",
              "      --hover-bg-color: #E2EBFA;\n",
              "      --hover-fill-color: #174EA6;\n",
              "      --disabled-fill-color: #AAA;\n",
              "      --disabled-bg-color: #DDD;\n",
              "  }\n",
              "\n",
              "  [theme=dark] .colab-df-quickchart {\n",
              "      --bg-color: #3B4455;\n",
              "      --fill-color: #D2E3FC;\n",
              "      --hover-bg-color: #434B5C;\n",
              "      --hover-fill-color: #FFFFFF;\n",
              "      --disabled-bg-color: #3B4455;\n",
              "      --disabled-fill-color: #666;\n",
              "  }\n",
              "\n",
              "  .colab-df-quickchart {\n",
              "    background-color: var(--bg-color);\n",
              "    border: none;\n",
              "    border-radius: 50%;\n",
              "    cursor: pointer;\n",
              "    display: none;\n",
              "    fill: var(--fill-color);\n",
              "    height: 32px;\n",
              "    padding: 0;\n",
              "    width: 32px;\n",
              "  }\n",
              "\n",
              "  .colab-df-quickchart:hover {\n",
              "    background-color: var(--hover-bg-color);\n",
              "    box-shadow: 0 1px 2px rgba(60, 64, 67, 0.3), 0 1px 3px 1px rgba(60, 64, 67, 0.15);\n",
              "    fill: var(--button-hover-fill-color);\n",
              "  }\n",
              "\n",
              "  .colab-df-quickchart-complete:disabled,\n",
              "  .colab-df-quickchart-complete:disabled:hover {\n",
              "    background-color: var(--disabled-bg-color);\n",
              "    fill: var(--disabled-fill-color);\n",
              "    box-shadow: none;\n",
              "  }\n",
              "\n",
              "  .colab-df-spinner {\n",
              "    border: 2px solid var(--fill-color);\n",
              "    border-color: transparent;\n",
              "    border-bottom-color: var(--fill-color);\n",
              "    animation:\n",
              "      spin 1s steps(1) infinite;\n",
              "  }\n",
              "\n",
              "  @keyframes spin {\n",
              "    0% {\n",
              "      border-color: transparent;\n",
              "      border-bottom-color: var(--fill-color);\n",
              "      border-left-color: var(--fill-color);\n",
              "    }\n",
              "    20% {\n",
              "      border-color: transparent;\n",
              "      border-left-color: var(--fill-color);\n",
              "      border-top-color: var(--fill-color);\n",
              "    }\n",
              "    30% {\n",
              "      border-color: transparent;\n",
              "      border-left-color: var(--fill-color);\n",
              "      border-top-color: var(--fill-color);\n",
              "      border-right-color: var(--fill-color);\n",
              "    }\n",
              "    40% {\n",
              "      border-color: transparent;\n",
              "      border-right-color: var(--fill-color);\n",
              "      border-top-color: var(--fill-color);\n",
              "    }\n",
              "    60% {\n",
              "      border-color: transparent;\n",
              "      border-right-color: var(--fill-color);\n",
              "    }\n",
              "    80% {\n",
              "      border-color: transparent;\n",
              "      border-right-color: var(--fill-color);\n",
              "      border-bottom-color: var(--fill-color);\n",
              "    }\n",
              "    90% {\n",
              "      border-color: transparent;\n",
              "      border-bottom-color: var(--fill-color);\n",
              "    }\n",
              "  }\n",
              "</style>\n",
              "\n",
              "  <script>\n",
              "    async function quickchart(key) {\n",
              "      const quickchartButtonEl =\n",
              "        document.querySelector('#' + key + ' button');\n",
              "      quickchartButtonEl.disabled = true;  // To prevent multiple clicks.\n",
              "      quickchartButtonEl.classList.add('colab-df-spinner');\n",
              "      try {\n",
              "        const charts = await google.colab.kernel.invokeFunction(\n",
              "            'suggestCharts', [key], {});\n",
              "      } catch (error) {\n",
              "        console.error('Error during call to suggestCharts:', error);\n",
              "      }\n",
              "      quickchartButtonEl.classList.remove('colab-df-spinner');\n",
              "      quickchartButtonEl.classList.add('colab-df-quickchart-complete');\n",
              "    }\n",
              "    (() => {\n",
              "      let quickchartButtonEl =\n",
              "        document.querySelector('#df-9cbc68ce-033b-41e4-8f70-38e2ae05ab24 button');\n",
              "      quickchartButtonEl.style.display =\n",
              "        google.colab.kernel.accessAllowed ? 'block' : 'none';\n",
              "    })();\n",
              "  </script>\n",
              "</div>\n",
              "    </div>\n",
              "  </div>\n"
            ]
          },
          "metadata": {},
          "execution_count": 16
        }
      ],
      "source": [
        "df=df[features]\n",
        "print(\"Shape of the dataset:\",df.shape)\n",
        "df.head()"
      ]
    },
    {
      "cell_type": "markdown",
      "metadata": {
        "id": "LVu7HEKoa9jK"
      },
      "source": [
        "Checking the unique values of loan_status"
      ]
    },
    {
      "cell_type": "code",
      "execution_count": null,
      "metadata": {
        "colab": {
          "base_uri": "https://localhost:8080/"
        },
        "id": "4tfTO-LyObrQ",
        "outputId": "5d7eb176-8b57-48fe-f483-8e55ecc8daa2"
      },
      "outputs": [
        {
          "output_type": "execute_result",
          "data": {
            "text/plain": [
              "array(['Fully Paid', 'Charged Off', 'Current', 'Default',\n",
              "       'Late (31-120 days)', 'In Grace Period', 'Late (16-30 days)',\n",
              "       'Does not meet the credit policy. Status:Fully Paid',\n",
              "       'Does not meet the credit policy. Status:Charged Off', 'Issued'],\n",
              "      dtype=object)"
            ]
          },
          "metadata": {},
          "execution_count": 17
        }
      ],
      "source": [
        "df['loan_status'].unique()"
      ]
    },
    {
      "cell_type": "markdown",
      "metadata": {
        "id": "itDMxPA2bibP"
      },
      "source": [
        "### Recognizing a binary-classification problem from our labels\n",
        "We're interested in the labels: \"Fully-paid\" or \"Charged-off\".\n",
        "\n",
        "Perhaps the other labels are for loans that are *not* of interest to us (i.e. we're not interested in predicting [for now] whether a loan goes into default, and whether or not a loan-payment is late is not a \"terminal-status\" of a loan (it's an intermediary step along the process toward paying off a loan))."
      ]
    },
    {
      "cell_type": "code",
      "execution_count": null,
      "metadata": {
        "colab": {
          "base_uri": "https://localhost:8080/"
        },
        "id": "1Yari0p_OtH2",
        "outputId": "65af90f1-7ed9-4deb-d288-80e44386e71c"
      },
      "outputs": [
        {
          "output_type": "execute_result",
          "data": {
            "text/plain": [
              "252971"
            ]
          },
          "metadata": {},
          "execution_count": 18
        }
      ],
      "source": [
        "target_loan= [\"Fully Paid\",\"Charged Off\"]\n",
        "df[\"loan_status\"].isin(target_loan).sum()"
      ]
    },
    {
      "cell_type": "code",
      "execution_count": null,
      "metadata": {
        "id": "BtndVZU35ZHe"
      },
      "outputs": [],
      "source": [
        "# Let's subset our data to the loan-status that we're interested in, and then also keep a copy of the original.\n",
        "original_df = df\n",
        "df = df[df[\"loan_status\"].isin(target_loan)]"
      ]
    },
    {
      "cell_type": "markdown",
      "metadata": {
        "id": "johNN8PZ9Q1N"
      },
      "source": [
        "**Task:** Begin by conducting exploratory data analysis (EDA) to gain insights into the dataset.\n",
        "\n",
        "Then, visualize the data, calculate summary statistics, and identify any patterns or trends."
      ]
    },
    {
      "cell_type": "markdown",
      "metadata": {
        "id": "mZ5VkkE9O0d8"
      },
      "source": [
        "## EDA"
      ]
    },
    {
      "cell_type": "markdown",
      "metadata": {
        "id": "BHqkOHaJbpsC"
      },
      "source": [
        "Calculating or checking if there is any missing value for features in the data."
      ]
    },
    {
      "cell_type": "code",
      "execution_count": null,
      "metadata": {
        "colab": {
          "base_uri": "https://localhost:8080/"
        },
        "id": "Tf24u6ycOwGK",
        "outputId": "df3ae05c-4427-4a36-80e3-d307ed315dfe"
      },
      "outputs": [
        {
          "output_type": "execute_result",
          "data": {
            "text/plain": [
              "loan_amnt                 0\n",
              "term                      0\n",
              "int_rate                  0\n",
              "installment               0\n",
              "grade                     0\n",
              "sub_grade                 0\n",
              "emp_length             9897\n",
              "home_ownership            0\n",
              "annual_inc                0\n",
              "verification_status       0\n",
              "purpose                   0\n",
              "dti                       0\n",
              "delinq_2yrs               0\n",
              "inq_last_6mths            0\n",
              "open_acc                  0\n",
              "pub_rec                   0\n",
              "revol_bal                 0\n",
              "revol_util              199\n",
              "total_acc                 0\n",
              "last_pymnt_amnt           0\n",
              "loan_status               0\n",
              "dtype: int64"
            ]
          },
          "metadata": {},
          "execution_count": 20
        }
      ],
      "source": [
        "# Consider revolving utiliization as a \"good\" feature (Debt-to-Income ratio for Mortgage, e.g.).\n",
        "# We may not want to drop it just because it has some missing values...\n",
        "df.isnull().sum()"
      ]
    },
    {
      "cell_type": "markdown",
      "metadata": {
        "id": "dSxO3Ku5kE7F"
      },
      "source": [
        "Filling missing values, also known as imputation, is a common approach to handle missing data in machine learning.\n",
        "\n",
        "1. Mean/Median/Mode Imputation\n",
        "\n",
        "2. Forward Fill/Backward Fill\n",
        "\n",
        "3. Regression Imputation etc.\n",
        "\n",
        "\n",
        "We can see there are missing values present in two features in the data.\n",
        "\n",
        "We will fill those value with mode and median.\n",
        "\n",
        "Knowing which type of imputation strategy to use requires data-intuition and/or cross-validation (for a later lecture)."
      ]
    },
    {
      "cell_type": "code",
      "execution_count": null,
      "metadata": {
        "id": "LtJ88hH9O1xC"
      },
      "outputs": [],
      "source": [
        "df['emp_length'] = df['emp_length'].fillna(df['emp_length'].mode()[0])  # Note that mode() returns a DataFrame, so we use [0] to grab the first (and only) entry.\n",
        "df['revol_util'] = df['revol_util'].fillna(df['revol_util'].median())"
      ]
    },
    {
      "cell_type": "markdown",
      "metadata": {
        "id": "pTtBQEWBlAST"
      },
      "source": [
        "### Plot or Visulaize Loan Status count.\n",
        "\n",
        "Class and count of classes\n",
        "\n",
        "What we can see from the plot. It's pretty simple status of loans and their counts. Which one is mostly present in the dataset."
      ]
    },
    {
      "cell_type": "code",
      "execution_count": null,
      "metadata": {
        "colab": {
          "base_uri": "https://localhost:8080/",
          "height": 436
        },
        "id": "DGU1hbxQO4bP",
        "outputId": "ae1d8932-7e42-4b3f-d9c8-51959f054f7b"
      },
      "outputs": [
        {
          "output_type": "execute_result",
          "data": {
            "text/plain": [
              "Text(0.5, 1.0, 'Loan status count')"
            ]
          },
          "metadata": {},
          "execution_count": 22
        },
        {
          "output_type": "display_data",
          "data": {
            "text/plain": [
              "<Figure size 1000x400 with 1 Axes>"
            ],
            "image/png": "[encoded data removed]"
          },
          "metadata": {}
        }
      ],
      "source": [
        "# For visualization\n",
        "import matplotlib.pyplot as plt\n",
        "%matplotlib inline\n",
        "import seaborn as sns\n",
        "import pickle\n",
        "fig, ax = plt.subplots(figsize=(10,4))\n",
        "sns.countplot(data=df, x=\"loan_status\")\n",
        "ax.set(xlabel='Status', ylabel='')\n",
        "ax.set_title('Loan status count', size=20)"
      ]
    },
    {
      "cell_type": "markdown",
      "metadata": {
        "id": "-B3EZh6u3cHu"
      },
      "source": [
        "We can see that there is an **imbalance in the class counts**. Fully paid dominates as majority class.\n",
        "\n",
        "(Hint [looking ahead]: should we set our classification threshold at 0.5?)"
      ]
    },
    {
      "cell_type": "markdown",
      "metadata": {
        "id": "L2FCpS_7mxQk"
      },
      "source": [
        "### Loan status count vs. Length of employment\n",
        "\n",
        "Let's try to give your inference."
      ]
    },
    {
      "cell_type": "code",
      "execution_count": null,
      "metadata": {
        "colab": {
          "base_uri": "https://localhost:8080/",
          "height": 476
        },
        "id": "X9p2Wum-VKCx",
        "outputId": "ba332ef4-c7a3-46a3-854c-9710786bbdba"
      },
      "outputs": [
        {
          "output_type": "display_data",
          "data": {
            "text/plain": [
              "<Figure size 1000x400 with 1 Axes>"
            ],
            "image/png": "[encoded data removed]"
          },
          "metadata": {}
        }
      ],
      "source": [
        "fig, ax = plt.subplots(figsize=(10,4))\n",
        "# Let's use the `order` argument to sort our frequencies from Greatest to Least.\n",
        "sns.countplot(data=df, x=\"emp_length\", order=df[\"emp_length\"].value_counts().index)\n",
        "ax.set(xlabel='Length of Employmnet', ylabel='Frequency')\n",
        "ax.set_title('Loan status count', size=20)\n",
        "plt.xticks(rotation='vertical')\n",
        "plt.show()"
      ]
    },
    {
      "cell_type": "markdown",
      "metadata": {
        "id": "RplpvteC3p1L"
      },
      "source": [
        "Most of the loans are of 10+ years. This might be quite informative on what happens for shorter tenure lengths. In general shorter tenure are consider more risky and hence might have higher charged off."
      ]
    },
    {
      "cell_type": "markdown",
      "metadata": {
        "id": "JjOzMeL-m3U7"
      },
      "source": [
        "## Correlation\n",
        "Correlation is a statistical measure that quantifies the relationship between two variables.\n",
        "\n",
        " * It measures the extent to which changes in one variable are associated with changes in another variable.\n",
        "\n",
        " * Correlation is commonly used in data analysis to understand the strength and direction of the relationship between variables.\n",
        "\n",
        "Now let's map the correlation between features. Pay attention to cells that are very opaque."
      ]
    },
    {
      "cell_type": "code",
      "execution_count": null,
      "metadata": {
        "colab": {
          "base_uri": "https://localhost:8080/",
          "height": 942
        },
        "id": "5XcHB_riVcoK",
        "outputId": "f574a1d8-b2cf-4f64-b4e2-5d25d516c570"
      },
      "outputs": [
        {
          "output_type": "display_data",
          "data": {
            "text/plain": [
              "<Figure size 1500x1000 with 2 Axes>"
            ],
            "image/png": "[encoded data removed]"
          },
          "metadata": {}
        }
      ],
      "source": [
        "# Plotting a heatmap\n",
        "plt.figure(figsize=(15,10))\n",
        "sns.heatmap(df.corr(numeric_only=True),annot=True, cmap='coolwarm')\n",
        "plt.show()"
      ]
    },
    {
      "cell_type": "markdown",
      "metadata": {
        "id": "N0t55DiA60TD"
      },
      "source": [
        "### Explanation of plot\n",
        "If we take Installment and Loan amount, e.g. you can see their correlation value\n",
        " 0.96, which means they are highly (positively) correlated.\n",
        "\n",
        "### Positive vs. Negative correlation(s)\n",
        "Okay now how they are correlated? Positive or Negative and what does this two means?\n",
        "\n",
        "**Positive** correlation: as the feature increases, the other one also tend to increase as well.\n",
        "\n",
        "**Negative** correlation: as the feature increases, the other one tends to decrease."
      ]
    },
    {
      "cell_type": "markdown",
      "metadata": {
        "id": "Tfc4O9cCcuVj"
      },
      "source": [
        "Now we are dividing features into categorical and numerical, so why we will do it? Remember we need to convert categorical to numerical if we want to use those categorical features into the ML model"
      ]
    },
    {
      "cell_type": "code",
      "execution_count": null,
      "metadata": {
        "id": "qbpTQroPVnFW"
      },
      "outputs": [],
      "source": [
        "# Dividing our features into categorical and numerical, using list-comprehensions.\n",
        "categorical=[feature for feature in df.columns if df[feature].dtype=='object']\n",
        "numerical=[feature for feature in df.columns if feature not in categorical]"
      ]
    },
    {
      "cell_type": "markdown",
      "metadata": {
        "id": "LMf42-czrfPX"
      },
      "source": [
        "## Gaining intuition for our Numeric Variables via Histograms\n",
        "A histogram is a graphical representation of the distribution of a dataset. It displays the frequencies or counts of observations within different intervals or bins. A histogram can provide insights into the underlying distribution of a continuous variable and help identify patterns, outliers, or skewness in the data.\n",
        "\n",
        "We make a list of numerical features. Now we will plot histograms of that feature to look into their ditribution."
      ]
    },
    {
      "cell_type": "code",
      "execution_count": null,
      "metadata": {
        "colab": {
          "base_uri": "https://localhost:8080/",
          "height": 621
        },
        "id": "zytYcJLFVfrR",
        "outputId": "0651213a-48c4-4004-8038-66946e8652cc"
      },
      "outputs": [
        {
          "output_type": "display_data",
          "data": {
            "text/plain": [
              "<Figure size 1500x600 with 15 Axes>"
            ],
            "image/png": "[encoded data removed]"
          },
          "metadata": {}
        }
      ],
      "source": [
        "# Histplot for each variable in numerical list.\n",
        "# Note that here we demonstrate Type-Annotations within our function prototype.\n",
        "def histplot_visual(data: pd.DataFrame, columns: list[str]) -> None:\n",
        "  \"\"\"Create a histogram plot using a subset of variables specified.\n",
        "\n",
        "  Args:\n",
        "    data: Input data-frame containing variables we wish to plot.\n",
        "    columns: Listing of column-names we wish to plot (must be contained within data).\n",
        "  \"\"\"\n",
        "  fig, ax = plt.subplots(3, 5, figsize=(15, 6))\n",
        "  fig.suptitle('Histogram for each numeric variable in our data',y=1, size=20)\n",
        "  ax=ax.flatten()\n",
        "  for i,feature in enumerate(columns):\n",
        "    # Setting option `kde=True` allows for a Kernel Density Estimate (i.e. PDF).\n",
        "    sns.histplot(data=data[feature],ax=ax[i], kde=True)\n",
        "  plt.tight_layout()\n",
        "\n",
        "# Invoke our function defined above.\n",
        "histplot_visual(data=df, columns=numerical)"
      ]
    },
    {
      "cell_type": "markdown",
      "metadata": {
        "id": "emvflio39Zi3"
      },
      "source": [
        "**Task:** Preprocess the dataset by handling missing values, addressing categorical variables, and performing any necessary data transformations.\n",
        "\n",
        "**Note:** this step ensures that the data is in a suitable format for machine learning algorithms."
      ]
    },
    {
      "cell_type": "markdown",
      "metadata": {
        "id": "NLDTFQu_Vrye"
      },
      "source": [
        "## Preprocessing"
      ]
    },
    {
      "cell_type": "markdown",
      "metadata": {
        "id": "g5W3QS7jlnia"
      },
      "source": [
        "in 'term' features we got the data as ' 36 months' ' 60 months' etc. we need to make it numeric using lstrip and rstrip."
      ]
    },
    {
      "cell_type": "code",
      "execution_count": null,
      "metadata": {
        "id": "JT8wxjyoVj4y",
        "colab": {
          "base_uri": "https://localhost:8080/"
        },
        "outputId": "80e26a8a-01b8-4325-97d2-19fa78434cbc"
      },
      "outputs": [
        {
          "output_type": "stream",
          "name": "stdout",
          "text": [
            "Before: [' 36 months' ' 60 months']\n",
            "After: ['36' '60']\n"
          ]
        }
      ],
      "source": [
        "\n",
        "# Term column\n",
        "print(\"Before:\",df['term'].unique())\n",
        "df['term'] = df.loc[:, 'term'].map(lambda x: x.lstrip(' ').rstrip(' months'))\n",
        "print(\"After:\",df['term'].unique())\n",
        "df['term'] = df.loc[:, 'term'].astype('int64')"
      ]
    },
    {
      "cell_type": "markdown",
      "metadata": {
        "id": "fFen9ctOl_zj"
      },
      "source": [
        "same thing we are doing here. '3 years' '9 years to 3, 9"
      ]
    },
    {
      "cell_type": "code",
      "execution_count": null,
      "metadata": {
        "id": "0mksxp1zVt43",
        "colab": {
          "base_uri": "https://localhost:8080/"
        },
        "outputId": "20654aa1-fbdb-440a-b4d1-4d6f92f120dc"
      },
      "outputs": [
        {
          "output_type": "stream",
          "name": "stdout",
          "text": [
            "Before: ['10+ years' '< 1 year' '3 years' '9 years' '4 years' '5 years' '1 year'\n",
            " '6 years' '2 years' '7 years' '8 years']\n",
            "After: ['10+' '<1' '3' '9' '4' '5' '1' '6' '2' '7' '8']\n"
          ]
        }
      ],
      "source": [
        "# emp_length column\n",
        "print(\"Before:\", df['emp_length'].unique())\n",
        "df['emp_length'] = df['emp_length'].str.replace(r'[a-zA-Z]', '', regex=True)  # Replace lower and upper-case letters with nothing.\n",
        "df['emp_length'] = df['emp_length'].str.replace(' ','')          # Replace empty spaces with nothing.\n",
        "print(\"After:\",df['emp_length'].unique())"
      ]
    },
    {
      "cell_type": "markdown",
      "metadata": {
        "id": "szYhF7dknvK5"
      },
      "source": [
        "### Encoding Categorical\n",
        "Label encoding is a technique used to convert categorical variables into numerical representations. In machine learning, algorithms typically require numerical inputs, so label encoding is employed to transform categorical data into a format that can be easily understood by the algorithms.\n",
        "\n",
        "Encode the Categorical features into numeric value to use those features in the Machine Learning model developement"
      ]
    },
    {
      "cell_type": "code",
      "execution_count": null,
      "metadata": {
        "id": "l7tqAYfcVv9Q"
      },
      "outputs": [],
      "source": [
        "# Label Encoding\n",
        "df['grade']= df['grade'].map({'A':0,'B':1, 'C':2, 'D':3, 'E':4, 'F':5, 'G':6})\n",
        "# **Alternatively:**\n",
        "# df['grade'] = df['grade'].map({char : i for i, char in enumerate(string.ascii_uppercase[:7])})\n",
        "\n",
        "df['sub_grade']= df['sub_grade'].map({'A1': 0, 'A2': 1, 'A3': 2, 'A4': 3, 'A5': 4,\n",
        "                                      'B1': 5, 'B2': 6, 'B3': 7, 'B4': 8, 'B5': 9,\n",
        "                                      'C1': 10, 'C2': 11, 'C3': 12, 'C4': 13, 'C5': 14,\n",
        "                                      'D1': 15, 'D2': 16, 'D3': 17, 'D4': 18, 'D5': 19,\n",
        "                                      'E1': 20, 'E2': 21, 'E3': 22, 'E4': 23, 'E5': 24,\n",
        "                                      'F1': 25, 'F2': 26, 'F3': 27, 'F4': 28, 'F5': 29,\n",
        "                                      'G1': 30, 'G2': 31, 'G3': 32, 'G4': 33, 'G5': 34})\n",
        "# **Alternatively**, consider use of itertools.product with arguments: list(range(6)) and string.uppercase[:7].\n",
        "\n",
        "df['emp_length']= df['emp_length'].map({'<1': 0,'1': 1,'2': 2,'3': 3,\n",
        "                                        '4': 4, '5': 5,'6': 6,'7': 7,\n",
        "                                        '8': 8,'9': 9, '10+': 10})\n",
        "# **Alternatively**, strip the trailing \"+\" from \"10+\", then change \"<1\" to 0 in a second line of code, then finally use map(astype(integer))\n",
        "\n",
        "df['loan_status']= df['loan_status'].map({'Fully Paid':0, 'Charged Off':1})\n",
        "# **Alternatively**, something like: df['loan_status'].map(lambda x: int(x == 'Charged Off'))"
      ]
    },
    {
      "cell_type": "markdown",
      "metadata": {
        "id": "NK-O50uCoA1a"
      },
      "source": [
        "## One-hot encoding\n",
        "One-hot encoding is a technique used to convert categorical variables into a binary matrix format, where each category becomes a separate binary feature. It is commonly used in machine learning to represent categorical data in a way that is compatible with various algorithms.\n",
        "\n"
      ]
    },
    {
      "cell_type": "code",
      "execution_count": null,
      "metadata": {
        "id": "fdLIVYG_VycR"
      },
      "outputs": [],
      "source": [
        "# One hot encoding (can be done manually, or with a library!)\n",
        "one_hot_encoding_vars = ['home_ownership', 'verification_status', 'purpose']\n",
        "df=pd.get_dummies(data=df, columns=one_hot_encoding_vars, drop_first=True)  # Drop-first indicates to get k-1 dummies from k categorical levels."
      ]
    },
    {
      "cell_type": "code",
      "execution_count": null,
      "metadata": {
        "colab": {
          "base_uri": "https://localhost:8080/",
          "height": 244
        },
        "id": "gxO1GN62xNNl",
        "outputId": "364c2d4f-3b71-4a74-8343-dbd756e07dfc"
      },
      "outputs": [
        {
          "output_type": "execute_result",
          "data": {
            "text/plain": [
              "   home_ownership_MORTGAGE  home_ownership_NONE  home_ownership_OTHER  \\\n",
              "0                        0                    0                     0   \n",
              "1                        0                    0                     0   \n",
              "2                        0                    0                     0   \n",
              "3                        0                    0                     0   \n",
              "5                        0                    0                     0   \n",
              "\n",
              "   home_ownership_OWN  home_ownership_RENT  \\\n",
              "0                   0                    1   \n",
              "1                   0                    1   \n",
              "2                   0                    1   \n",
              "3                   0                    1   \n",
              "5                   0                    1   \n",
              "\n",
              "   verification_status_Source Verified  verification_status_Verified  \\\n",
              "0                                    0                             1   \n",
              "1                                    1                             0   \n",
              "2                                    0                             0   \n",
              "3                                    1                             0   \n",
              "5                                    1                             0   \n",
              "\n",
              "   purpose_credit_card  purpose_debt_consolidation  purpose_educational  \\\n",
              "0                    1                           0                    0   \n",
              "1                    0                           0                    0   \n",
              "2                    0                           0                    0   \n",
              "3                    0                           0                    0   \n",
              "5                    0                           0                    0   \n",
              "\n",
              "   purpose_home_improvement  purpose_house  purpose_major_purchase  \\\n",
              "0                         0              0                       0   \n",
              "1                         0              0                       0   \n",
              "2                         0              0                       0   \n",
              "3                         0              0                       0   \n",
              "5                         0              0                       0   \n",
              "\n",
              "   purpose_medical  purpose_moving  purpose_other  purpose_renewable_energy  \\\n",
              "0                0               0              0                         0   \n",
              "1                0               0              0                         0   \n",
              "2                0               0              0                         0   \n",
              "3                0               0              1                         0   \n",
              "5                0               0              0                         0   \n",
              "\n",
              "   purpose_small_business  purpose_vacation  purpose_wedding  \n",
              "0                       0                 0                0  \n",
              "1                       0                 0                0  \n",
              "2                       1                 0                0  \n",
              "3                       0                 0                0  \n",
              "5                       0                 0                1  "
            ],
            "text/html": [
              "\n",
              "  <div id=\"df-2e48d4ab-4278-4e9b-801a-760aed5998c7\" class=\"colab-df-container\">\n",
              "    <div>\n",
              "<style scoped>\n",
              "    .dataframe tbody tr th:only-of-type {\n",
              "        vertical-align: middle;\n",
              "    }\n",
              "\n",
              "    .dataframe tbody tr th {\n",
              "        vertical-align: top;\n",
              "    }\n",
              "\n",
              "    .dataframe thead th {\n",
              "        text-align: right;\n",
              "    }\n",
              "</style>\n",
              "<table border=\"1\" class=\"dataframe\">\n",
              "  <thead>\n",
              "    <tr style=\"text-align: right;\">\n",
              "      <th></th>\n",
              "      <th>home_ownership_MORTGAGE</th>\n",
              "      <th>home_ownership_NONE</th>\n",
              "      <th>home_ownership_OTHER</th>\n",
              "      <th>home_ownership_OWN</th>\n",
              "      <th>home_ownership_RENT</th>\n",
              "      <th>verification_status_Source Verified</th>\n",
              "      <th>verification_status_Verified</th>\n",
              "      <th>purpose_credit_card</th>\n",
              "      <th>purpose_debt_consolidation</th>\n",
              "      <th>purpose_educational</th>\n",
              "      <th>purpose_home_improvement</th>\n",
              "      <th>purpose_house</th>\n",
              "      <th>purpose_major_purchase</th>\n",
              "      <th>purpose_medical</th>\n",
              "      <th>purpose_moving</th>\n",
              "      <th>purpose_other</th>\n",
              "      <th>purpose_renewable_energy</th>\n",
              "      <th>purpose_small_business</th>\n",
              "      <th>purpose_vacation</th>\n",
              "      <th>purpose_wedding</th>\n",
              "    </tr>\n",
              "  </thead>\n",
              "  <tbody>\n",
              "    <tr>\n",
              "      <th>0</th>\n",
              "      <td>0</td>\n",
              "      <td>0</td>\n",
              "      <td>0</td>\n",
              "      <td>0</td>\n",
              "      <td>1</td>\n",
              "      <td>0</td>\n",
              "      <td>1</td>\n",
              "      <td>1</td>\n",
              "      <td>0</td>\n",
              "      <td>0</td>\n",
              "      <td>0</td>\n",
              "      <td>0</td>\n",
              "      <td>0</td>\n",
              "      <td>0</td>\n",
              "      <td>0</td>\n",
              "      <td>0</td>\n",
              "      <td>0</td>\n",
              "      <td>0</td>\n",
              "      <td>0</td>\n",
              "      <td>0</td>\n",
              "    </tr>\n",
              "    <tr>\n",
              "      <th>1</th>\n",
              "      <td>0</td>\n",
              "      <td>0</td>\n",
              "      <td>0</td>\n",
              "      <td>0</td>\n",
              "      <td>1</td>\n",
              "      <td>1</td>\n",
              "      <td>0</td>\n",
              "      <td>0</td>\n",
              "      <td>0</td>\n",
              "      <td>0</td>\n",
              "      <td>0</td>\n",
              "      <td>0</td>\n",
              "      <td>0</td>\n",
              "      <td>0</td>\n",
              "      <td>0</td>\n",
              "      <td>0</td>\n",
              "      <td>0</td>\n",
              "      <td>0</td>\n",
              "      <td>0</td>\n",
              "      <td>0</td>\n",
              "    </tr>\n",
              "    <tr>\n",
              "      <th>2</th>\n",
              "      <td>0</td>\n",
              "      <td>0</td>\n",
              "      <td>0</td>\n",
              "      <td>0</td>\n",
              "      <td>1</td>\n",
              "      <td>0</td>\n",
              "      <td>0</td>\n",
              "      <td>0</td>\n",
              "      <td>0</td>\n",
              "      <td>0</td>\n",
              "      <td>0</td>\n",
              "      <td>0</td>\n",
              "      <td>0</td>\n",
              "      <td>0</td>\n",
              "      <td>0</td>\n",
              "      <td>0</td>\n",
              "      <td>0</td>\n",
              "      <td>1</td>\n",
              "      <td>0</td>\n",
              "      <td>0</td>\n",
              "    </tr>\n",
              "    <tr>\n",
              "      <th>3</th>\n",
              "      <td>0</td>\n",
              "      <td>0</td>\n",
              "      <td>0</td>\n",
              "      <td>0</td>\n",
              "      <td>1</td>\n",
              "      <td>1</td>\n",
              "      <td>0</td>\n",
              "      <td>0</td>\n",
              "      <td>0</td>\n",
              "      <td>0</td>\n",
              "      <td>0</td>\n",
              "      <td>0</td>\n",
              "      <td>0</td>\n",
              "      <td>0</td>\n",
              "      <td>0</td>\n",
              "      <td>1</td>\n",
              "      <td>0</td>\n",
              "      <td>0</td>\n",
              "      <td>0</td>\n",
              "      <td>0</td>\n",
              "    </tr>\n",
              "    <tr>\n",
              "      <th>5</th>\n",
              "      <td>0</td>\n",
              "      <td>0</td>\n",
              "      <td>0</td>\n",
              "      <td>0</td>\n",
              "      <td>1</td>\n",
              "      <td>1</td>\n",
              "      <td>0</td>\n",
              "      <td>0</td>\n",
              "      <td>0</td>\n",
              "      <td>0</td>\n",
              "      <td>0</td>\n",
              "      <td>0</td>\n",
              "      <td>0</td>\n",
              "      <td>0</td>\n",
              "      <td>0</td>\n",
              "      <td>0</td>\n",
              "      <td>0</td>\n",
              "      <td>0</td>\n",
              "      <td>0</td>\n",
              "      <td>1</td>\n",
              "    </tr>\n",
              "  </tbody>\n",
              "</table>\n",
              "</div>\n",
              "    <div class=\"colab-df-buttons\">\n",
              "\n",
              "  <div class=\"colab-df-container\">\n",
              "    <button class=\"colab-df-convert\" onclick=\"convertToInteractive('df-2e48d4ab-4278-4e9b-801a-760aed5998c7')\"\n",
              "            title=\"Convert this dataframe to an interactive table.\"\n",
              "            style=\"display:none;\">\n",
              "\n",
              "  <svg xmlns=\"http://www.w3.org/2000/svg\" height=\"24px\" viewBox=\"0 -960 960 960\">\n",
              "    <path d=\"M120-120v-720h720v720H120Zm60-500h600v-160H180v160Zm220 220h160v-160H400v160Zm0 220h160v-160H400v160ZM180-400h160v-160H180v160Zm440 0h160v-160H620v160ZM180-180h160v-160H180v160Zm440 0h160v-160H620v160Z\"/>\n",
              "  </svg>\n",
              "    </button>\n",
              "\n",
              "  <style>\n",
              "    .colab-df-container {\n",
              "      display:flex;\n",
              "      gap: 12px;\n",
              "    }\n",
              "\n",
              "    .colab-df-convert {\n",
              "      background-color: #E8F0FE;\n",
              "      border: none;\n",
              "      border-radius: 50%;\n",
              "      cursor: pointer;\n",
              "      display: none;\n",
              "      fill: #1967D2;\n",
              "      height: 32px;\n",
              "      padding: 0 0 0 0;\n",
              "      width: 32px;\n",
              "    }\n",
              "\n",
              "    .colab-df-convert:hover {\n",
              "      background-color: #E2EBFA;\n",
              "      box-shadow: 0px 1px 2px rgba(60, 64, 67, 0.3), 0px 1px 3px 1px rgba(60, 64, 67, 0.15);\n",
              "      fill: #174EA6;\n",
              "    }\n",
              "\n",
              "    .colab-df-buttons div {\n",
              "      margin-bottom: 4px;\n",
              "    }\n",
              "\n",
              "    [theme=dark] .colab-df-convert {\n",
              "      background-color: #3B4455;\n",
              "      fill: #D2E3FC;\n",
              "    }\n",
              "\n",
              "    [theme=dark] .colab-df-convert:hover {\n",
              "      background-color: #434B5C;\n",
              "      box-shadow: 0px 1px 3px 1px rgba(0, 0, 0, 0.15);\n",
              "      filter: drop-shadow(0px 1px 2px rgba(0, 0, 0, 0.3));\n",
              "      fill: #FFFFFF;\n",
              "    }\n",
              "  </style>\n",
              "\n",
              "    <script>\n",
              "      const buttonEl =\n",
              "        document.querySelector('#df-2e48d4ab-4278-4e9b-801a-760aed5998c7 button.colab-df-convert');\n",
              "      buttonEl.style.display =\n",
              "        google.colab.kernel.accessAllowed ? 'block' : 'none';\n",
              "\n",
              "      async function convertToInteractive(key) {\n",
              "        const element = document.querySelector('#df-2e48d4ab-4278-4e9b-801a-760aed5998c7');\n",
              "        const dataTable =\n",
              "          await google.colab.kernel.invokeFunction('convertToInteractive',\n",
              "                                                    [key], {});\n",
              "        if (!dataTable) return;\n",
              "\n",
              "        const docLinkHtml = 'Like what you see? Visit the ' +\n",
              "          '<a target=\"_blank\" href=https://colab.research.google.com/notebooks/data_table.ipynb>data table notebook</a>'\n",
              "          + ' to learn more about interactive tables.';\n",
              "        element.innerHTML = '';\n",
              "        dataTable['output_type'] = 'display_data';\n",
              "        await google.colab.output.renderOutput(dataTable, element);\n",
              "        const docLink = document.createElement('div');\n",
              "        docLink.innerHTML = docLinkHtml;\n",
              "        element.appendChild(docLink);\n",
              "      }\n",
              "    </script>\n",
              "  </div>\n",
              "\n",
              "\n",
              "<div id=\"df-409d8cbc-f203-4c8b-ac8d-be1780fb30e0\">\n",
              "  <button class=\"colab-df-quickchart\" onclick=\"quickchart('df-409d8cbc-f203-4c8b-ac8d-be1780fb30e0')\"\n",
              "            title=\"Suggest charts.\"\n",
              "            style=\"display:none;\">\n",
              "\n",
              "<svg xmlns=\"http://www.w3.org/2000/svg\" height=\"24px\"viewBox=\"0 0 24 24\"\n",
              "     width=\"24px\">\n",
              "    <g>\n",
              "        <path d=\"M19 3H5c-1.1 0-2 .9-2 2v14c0 1.1.9 2 2 2h14c1.1 0 2-.9 2-2V5c0-1.1-.9-2-2-2zM9 17H7v-7h2v7zm4 0h-2V7h2v10zm4 0h-2v-4h2v4z\"/>\n",
              "    </g>\n",
              "</svg>\n",
              "  </button>\n",
              "\n",
              "<style>\n",
              "  .colab-df-quickchart {\n",
              "      --bg-color: #E8F0FE;\n",
              "      --fill-color: #1967D2;\n",
              "      --hover-bg-color: #E2EBFA;\n",
              "      --hover-fill-color: #174EA6;\n",
              "      --disabled-fill-color: #AAA;\n",
              "      --disabled-bg-color: #DDD;\n",
              "  }\n",
              "\n",
              "  [theme=dark] .colab-df-quickchart {\n",
              "      --bg-color: #3B4455;\n",
              "      --fill-color: #D2E3FC;\n",
              "      --hover-bg-color: #434B5C;\n",
              "      --hover-fill-color: #FFFFFF;\n",
              "      --disabled-bg-color: #3B4455;\n",
              "      --disabled-fill-color: #666;\n",
              "  }\n",
              "\n",
              "  .colab-df-quickchart {\n",
              "    background-color: var(--bg-color);\n",
              "    border: none;\n",
              "    border-radius: 50%;\n",
              "    cursor: pointer;\n",
              "    display: none;\n",
              "    fill: var(--fill-color);\n",
              "    height: 32px;\n",
              "    padding: 0;\n",
              "    width: 32px;\n",
              "  }\n",
              "\n",
              "  .colab-df-quickchart:hover {\n",
              "    background-color: var(--hover-bg-color);\n",
              "    box-shadow: 0 1px 2px rgba(60, 64, 67, 0.3), 0 1px 3px 1px rgba(60, 64, 67, 0.15);\n",
              "    fill: var(--button-hover-fill-color);\n",
              "  }\n",
              "\n",
              "  .colab-df-quickchart-complete:disabled,\n",
              "  .colab-df-quickchart-complete:disabled:hover {\n",
              "    background-color: var(--disabled-bg-color);\n",
              "    fill: var(--disabled-fill-color);\n",
              "    box-shadow: none;\n",
              "  }\n",
              "\n",
              "  .colab-df-spinner {\n",
              "    border: 2px solid var(--fill-color);\n",
              "    border-color: transparent;\n",
              "    border-bottom-color: var(--fill-color);\n",
              "    animation:\n",
              "      spin 1s steps(1) infinite;\n",
              "  }\n",
              "\n",
              "  @keyframes spin {\n",
              "    0% {\n",
              "      border-color: transparent;\n",
              "      border-bottom-color: var(--fill-color);\n",
              "      border-left-color: var(--fill-color);\n",
              "    }\n",
              "    20% {\n",
              "      border-color: transparent;\n",
              "      border-left-color: var(--fill-color);\n",
              "      border-top-color: var(--fill-color);\n",
              "    }\n",
              "    30% {\n",
              "      border-color: transparent;\n",
              "      border-left-color: var(--fill-color);\n",
              "      border-top-color: var(--fill-color);\n",
              "      border-right-color: var(--fill-color);\n",
              "    }\n",
              "    40% {\n",
              "      border-color: transparent;\n",
              "      border-right-color: var(--fill-color);\n",
              "      border-top-color: var(--fill-color);\n",
              "    }\n",
              "    60% {\n",
              "      border-color: transparent;\n",
              "      border-right-color: var(--fill-color);\n",
              "    }\n",
              "    80% {\n",
              "      border-color: transparent;\n",
              "      border-right-color: var(--fill-color);\n",
              "      border-bottom-color: var(--fill-color);\n",
              "    }\n",
              "    90% {\n",
              "      border-color: transparent;\n",
              "      border-bottom-color: var(--fill-color);\n",
              "    }\n",
              "  }\n",
              "</style>\n",
              "\n",
              "  <script>\n",
              "    async function quickchart(key) {\n",
              "      const quickchartButtonEl =\n",
              "        document.querySelector('#' + key + ' button');\n",
              "      quickchartButtonEl.disabled = true;  // To prevent multiple clicks.\n",
              "      quickchartButtonEl.classList.add('colab-df-spinner');\n",
              "      try {\n",
              "        const charts = await google.colab.kernel.invokeFunction(\n",
              "            'suggestCharts', [key], {});\n",
              "      } catch (error) {\n",
              "        console.error('Error during call to suggestCharts:', error);\n",
              "      }\n",
              "      quickchartButtonEl.classList.remove('colab-df-spinner');\n",
              "      quickchartButtonEl.classList.add('colab-df-quickchart-complete');\n",
              "    }\n",
              "    (() => {\n",
              "      let quickchartButtonEl =\n",
              "        document.querySelector('#df-409d8cbc-f203-4c8b-ac8d-be1780fb30e0 button');\n",
              "      quickchartButtonEl.style.display =\n",
              "        google.colab.kernel.accessAllowed ? 'block' : 'none';\n",
              "    })();\n",
              "  </script>\n",
              "</div>\n",
              "    </div>\n",
              "  </div>\n"
            ]
          },
          "metadata": {},
          "execution_count": 31
        }
      ],
      "source": [
        "df.filter(regex=\"|\".join(one_hot_encoding_vars)).head()  # Use '|'.join(...) to create a Regex that filters for our newly created columns."
      ]
    },
    {
      "cell_type": "markdown",
      "metadata": {
        "id": "TbPNtiUQ9iPb"
      },
      "source": [
        "# **Split the data into training and validation sets for model evaluation.**\n",
        "\n",
        "_Subtask_: Train and evaluate various classification models, such as logistic regression, SVM etc. Compare the performance of these models to identify the most accurate one for loan approval prediction.\n",
        "\n",
        "As you complete the subtask(s), fine-tune each model by adjusting hyperparameters. Use techniques like regularization."
      ]
    },
    {
      "cell_type": "code",
      "execution_count": null,
      "metadata": {
        "colab": {
          "base_uri": "https://localhost:8080/"
        },
        "id": "c7Or9lIwD1UK",
        "outputId": "53133e1f-76fc-4e3a-e262-250c90a6132e"
      },
      "outputs": [
        {
          "output_type": "execute_result",
          "data": {
            "text/plain": [
              "(252971, 38)"
            ]
          },
          "metadata": {},
          "execution_count": 32
        }
      ],
      "source": [
        "df.shape"
      ]
    },
    {
      "cell_type": "code",
      "execution_count": null,
      "metadata": {
        "id": "KVELBpAGV03-"
      },
      "outputs": [],
      "source": [
        "# Dividing our dataset into independent and dependent features\n",
        "X=df.drop('loan_status',axis=1)\n",
        "y=df['loan_status']"
      ]
    },
    {
      "cell_type": "markdown",
      "metadata": {
        "id": "Q9hIqkpdmbJ5"
      },
      "source": [
        "Splitting our dataset."
      ]
    },
    {
      "cell_type": "code",
      "execution_count": null,
      "metadata": {
        "id": "8Z-_SkUcV3_q"
      },
      "outputs": [],
      "source": [
        "# Splitting our dataset between training and testing set\n",
        "X_train, X_test, y_train, y_test = train_test_split(X, y, test_size=0.25,random_state=100)"
      ]
    },
    {
      "cell_type": "markdown",
      "metadata": {
        "id": "fN4uVgtqmdrm"
      },
      "source": [
        "### Normalization of Features\n",
        "Transforming the dataset. We are using minmax scalar to normalize the feature.\n",
        "\n",
        "Okay so why we normalize?\n",
        "The MinMaxScaler is a common feature scaling technique used in machine learning. It scales features to a specified range, typically between 0 and 1. The main reason for using MinMaxScaler is to ensure that all features have the same scale and to bring the data within a specific range.\n",
        "\n",
        "As we saw from the distribution plot the data has various range and the distribution is different. We are mapping all those into a single range."
      ]
    },
    {
      "cell_type": "code",
      "execution_count": null,
      "metadata": {
        "id": "Nsiy6RQnV6e4"
      },
      "outputs": [],
      "source": [
        "from sklearn.preprocessing import MinMaxScaler\n",
        "# MinMax Scaler\n",
        "scaler = MinMaxScaler()\n",
        "X_train = scaler.fit_transform(X_train)\n",
        "X_test = scaler.transform(X_test)"
      ]
    },
    {
      "cell_type": "code",
      "execution_count": null,
      "metadata": {
        "colab": {
          "base_uri": "https://localhost:8080/"
        },
        "id": "t926Bof8V8MT",
        "outputId": "d2e8e350-7183-479a-90f9-0aa6c074d937"
      },
      "outputs": [
        {
          "output_type": "execute_result",
          "data": {
            "text/plain": [
              "0    207723\n",
              "1     45248\n",
              "Name: loan_status, dtype: int64"
            ]
          },
          "metadata": {},
          "execution_count": 36
        }
      ],
      "source": [
        "df['loan_status'].value_counts()"
      ]
    },
    {
      "cell_type": "markdown",
      "metadata": {
        "id": "8paafdHG89MI"
      },
      "source": [
        "**Now, let's take a break, then return to slides before revisiting this Colab.**"
      ]
    },
    {
      "cell_type": "markdown",
      "metadata": {
        "id": "LalHlr9iMXZQ"
      },
      "source": [
        "# Model"
      ]
    },
    {
      "cell_type": "markdown",
      "metadata": {
        "id": "c6Qa3Zc8Oait"
      },
      "source": [
        "**Logistic Regression**\n",
        "\n",
        "We are training our first model Logistic regression with one iteration. First we are fitting the data to learn. Then we are predicting on the test data whatever our model has learned from the training data.\n",
        "\n",
        "We are trying to learn the pattern of the training data to predict from unknown data. We got the accuracy as 82%."
      ]
    },
    {
      "cell_type": "code",
      "execution_count": null,
      "metadata": {
        "colab": {
          "base_uri": "https://localhost:8080/"
        },
        "id": "GZLYYblRWGZw",
        "outputId": "f7137a65-80d0-4495-e5f5-0ee611cd28e7"
      },
      "outputs": [
        {
          "output_type": "stream",
          "name": "stdout",
          "text": [
            "Accuracy: 0.8224625650269595\n"
          ]
        },
        {
          "output_type": "stream",
          "name": "stderr",
          "text": [
            "/usr/local/lib/python3.10/dist-packages/sklearn/linear_model/_logistic.py:458: ConvergenceWarning: lbfgs failed to converge (status=1):\n",
            "STOP: TOTAL NO. of ITERATIONS REACHED LIMIT.\n",
            "\n",
            "Increase the number of iterations (max_iter) or scale the data as shown in:\n",
            "    https://scikit-learn.org/stable/modules/preprocessing.html\n",
            "Please also refer to the documentation for alternative solver options:\n",
            "    https://scikit-learn.org/stable/modules/linear_model.html#logistic-regression\n",
            "  n_iter_i = _check_optimize_result(\n"
          ]
        }
      ],
      "source": [
        "# Fit a logistic regression model to the training data\n",
        "# Use \"random_state\" to make results reproducible.\n",
        "model = LogisticRegression(random_state = 42, max_iter = 1)\n",
        "model.fit(X_train, y_train)\n",
        "\n",
        "# Predict the rise and fall of crypto on the testing data\n",
        "y_pred = model.predict(X_test)\n",
        "\n",
        "# Compute the accuracy of the model\n",
        "accuracy = accuracy_score(y_test, y_pred)\n",
        "print('Accuracy:', accuracy)"
      ]
    },
    {
      "cell_type": "markdown",
      "metadata": {
        "id": "x9XqkvzXnpAF"
      },
      "source": [
        "### Regularization\n",
        "Suppose we are not satisfied with our models performance. May be it can underfit or overfit the data. we need more accuracy. So how we can improve the model?\n",
        "\n",
        "Here regularization comes into the field. here we are using $\\ell_2$  regularization technique with a extra parameter that is solver. Now what solver is doing??\n",
        "\n",
        "So as we know: $\\ell_2$ regularization, also known as Ridge regularization, is a commonly used technique in machine learning to prevent overfitting and improve the generalization performance of models. It accomplishes this by adding a penalty term to the loss function during the training process.\n",
        "\n",
        "`Solver` is nothing but an optimization technique. Different solvers employ different optimization techniques to minimize the cost function or maximize the likelihood function associated with logistic regression. The choice of solver can impact the efficiency and accuracy of the model's training process.\n",
        "\n",
        "Here we use $\\ell_2$ as penalty and newton-cholesky as solver. lets see if it is increasing our accuracy."
      ]
    },
    {
      "cell_type": "code",
      "execution_count": null,
      "metadata": {
        "colab": {
          "base_uri": "https://localhost:8080/"
        },
        "id": "pK6D2LL-NGe0",
        "outputId": "eea6d7cb-0f29-4446-a017-1c0a42bd8a22"
      },
      "outputs": [
        {
          "output_type": "stream",
          "name": "stdout",
          "text": [
            "Accuracy: 0.8685388106193571\n"
          ]
        },
        {
          "output_type": "stream",
          "name": "stderr",
          "text": [
            "/usr/local/lib/python3.10/dist-packages/sklearn/linear_model/_glm/_newton_solver.py:420: ConvergenceWarning: Newton solver did not converge after 1 iterations.\n",
            "  warnings.warn(\n"
          ]
        }
      ],
      "source": [
        "# Fit a logistic regression model to the training data\n",
        "model2 = LogisticRegression(penalty='l2', solver = 'newton-cholesky', max_iter=1)\n",
        "model2.fit(X_train, y_train)\n",
        "\n",
        "# Predict the rise and fall of crypto on the testing data\n",
        "y_pred = model2.predict(X_test)\n",
        "\n",
        "# Compute the accuracy of the model\n",
        "accuracy = accuracy_score(y_test, y_pred)\n",
        "print('Accuracy:', accuracy)"
      ]
    },
    {
      "cell_type": "markdown",
      "metadata": {
        "id": "ieDxuqBjpRUH"
      },
      "source": [
        "Model 2 is performing better than model 1 by using regularization.\n",
        "\n",
        "Now try some more different parameter. We are using l2 with a `sag` solver, also setting the iterations to 200. This means more a potentially more accurate model at the tradeoff of more computation.\n",
        "\n",
        "What we can see that there is some marginal improvement in model 3..."
      ]
    },
    {
      "cell_type": "code",
      "execution_count": null,
      "metadata": {
        "colab": {
          "base_uri": "https://localhost:8080/"
        },
        "id": "IhOfE5FMNtYJ",
        "outputId": "7fc07f54-7318-4fd1-85c0-c2f5b7f4f985"
      },
      "outputs": [
        {
          "output_type": "stream",
          "name": "stdout",
          "text": [
            "Accuracy: 0.89186154989485\n"
          ]
        }
      ],
      "source": [
        "# Fit a logistic regression model to the training data\n",
        "model3 = LogisticRegression(penalty='l2', solver = 'sag', max_iter = 200)\n",
        "model3.fit(X_train, y_train)\n",
        "\n",
        "# Predict the rise and fall of crypto on the testing data\n",
        "y_pred = model3.predict(X_test)\n",
        "\n",
        "# Compute the accuracy of the model\n",
        "accuracy = accuracy_score(y_test, y_pred)\n",
        "print('Accuracy:', accuracy)"
      ]
    },
    {
      "cell_type": "markdown",
      "metadata": {
        "id": "5tMtC6cPPeWh"
      },
      "source": [
        "**Polynomial Features**\n",
        "\n",
        "We have tried with our preprocessed features already. Okay now what if tried with some other kind of features. So let's make them ploynomial.\n",
        "\n",
        "We'll then fit logistic regression models with penalty terms, varying number of iterations, and different solvers."
      ]
    },
    {
      "cell_type": "code",
      "execution_count": null,
      "metadata": {
        "id": "3mjtB2WmOIyl",
        "colab": {
          "base_uri": "https://localhost:8080/",
          "height": 162
        },
        "outputId": "363cadbc-c7d5-48e6-c1ee-3842b9f34d34"
      },
      "outputs": [
        {
          "output_type": "stream",
          "name": "stderr",
          "text": [
            "/usr/local/lib/python3.10/dist-packages/sklearn/linear_model/_sag.py:350: ConvergenceWarning: The max_iter was reached which means the coef_ did not converge\n",
            "  warnings.warn(\n"
          ]
        },
        {
          "output_type": "execute_result",
          "data": {
            "text/plain": [
              "Pipeline(steps=[('polynomialfeatures', PolynomialFeatures()),\n",
              "                ('logisticregression',\n",
              "                 LogisticRegression(max_iter=50, random_state=42,\n",
              "                                    solver='saga'))])"
            ],
            "text/html": [
              "<style>#sk-container-id-1 {color: black;background-color: white;}#sk-container-id-1 pre{padding: 0;}#sk-container-id-1 div.sk-toggleable {background-color: white;}#sk-container-id-1 label.sk-toggleable__label {cursor: pointer;display: block;width: 100%;margin-bottom: 0;padding: 0.3em;box-sizing: border-box;text-align: center;}#sk-container-id-1 label.sk-toggleable__label-arrow:before {content: \"▸\";float: left;margin-right: 0.25em;color: #696969;}#sk-container-id-1 label.sk-toggleable__label-arrow:hover:before {color: black;}#sk-container-id-1 div.sk-estimator:hover label.sk-toggleable__label-arrow:before {color: black;}#sk-container-id-1 div.sk-toggleable__content {max-height: 0;max-width: 0;overflow: hidden;text-align: left;background-color: #f0f8ff;}#sk-container-id-1 div.sk-toggleable__content pre {margin: 0.2em;color: black;border-radius: 0.25em;background-color: #f0f8ff;}#sk-container-id-1 input.sk-toggleable__control:checked~div.sk-toggleable__content {max-height: 200px;max-width: 100%;overflow: auto;}#sk-container-id-1 input.sk-toggleable__control:checked~label.sk-toggleable__label-arrow:before {content: \"▾\";}#sk-container-id-1 div.sk-estimator input.sk-toggleable__control:checked~label.sk-toggleable__label {background-color: #d4ebff;}#sk-container-id-1 div.sk-label input.sk-toggleable__control:checked~label.sk-toggleable__label {background-color: #d4ebff;}#sk-container-id-1 input.sk-hidden--visually {border: 0;clip: rect(1px 1px 1px 1px);clip: rect(1px, 1px, 1px, 1px);height: 1px;margin: -1px;overflow: hidden;padding: 0;position: absolute;width: 1px;}#sk-container-id-1 div.sk-estimator {font-family: monospace;background-color: #f0f8ff;border: 1px dotted black;border-radius: 0.25em;box-sizing: border-box;margin-bottom: 0.5em;}#sk-container-id-1 div.sk-estimator:hover {background-color: #d4ebff;}#sk-container-id-1 div.sk-parallel-item::after {content: \"\";width: 100%;border-bottom: 1px solid gray;flex-grow: 1;}#sk-container-id-1 div.sk-label:hover label.sk-toggleable__label {background-color: #d4ebff;}#sk-container-id-1 div.sk-serial::before {content: \"\";position: absolute;border-left: 1px solid gray;box-sizing: border-box;top: 0;bottom: 0;left: 50%;z-index: 0;}#sk-container-id-1 div.sk-serial {display: flex;flex-direction: column;align-items: center;background-color: white;padding-right: 0.2em;padding-left: 0.2em;position: relative;}#sk-container-id-1 div.sk-item {position: relative;z-index: 1;}#sk-container-id-1 div.sk-parallel {display: flex;align-items: stretch;justify-content: center;background-color: white;position: relative;}#sk-container-id-1 div.sk-item::before, #sk-container-id-1 div.sk-parallel-item::before {content: \"\";position: absolute;border-left: 1px solid gray;box-sizing: border-box;top: 0;bottom: 0;left: 50%;z-index: -1;}#sk-container-id-1 div.sk-parallel-item {display: flex;flex-direction: column;z-index: 1;position: relative;background-color: white;}#sk-container-id-1 div.sk-parallel-item:first-child::after {align-self: flex-end;width: 50%;}#sk-container-id-1 div.sk-parallel-item:last-child::after {align-self: flex-start;width: 50%;}#sk-container-id-1 div.sk-parallel-item:only-child::after {width: 0;}#sk-container-id-1 div.sk-dashed-wrapped {border: 1px dashed gray;margin: 0 0.4em 0.5em 0.4em;box-sizing: border-box;padding-bottom: 0.4em;background-color: white;}#sk-container-id-1 div.sk-label label {font-family: monospace;font-weight: bold;display: inline-block;line-height: 1.2em;}#sk-container-id-1 div.sk-label-container {text-align: center;}#sk-container-id-1 div.sk-container {/* jupyter's `normalize.less` sets `[hidden] { display: none; }` but bootstrap.min.css set `[hidden] { display: none !important; }` so we also need the `!important` here to be able to override the default hidden behavior on the sphinx rendered scikit-learn.org. See: https://github.com/scikit-learn/scikit-learn/issues/21755 */display: inline-block !important;position: relative;}#sk-container-id-1 div.sk-text-repr-fallback {display: none;}</style><div id=\"sk-container-id-1\" class=\"sk-top-container\"><div class=\"sk-text-repr-fallback\"><pre>Pipeline(steps=[(&#x27;polynomialfeatures&#x27;, PolynomialFeatures()),\n",
              "                (&#x27;logisticregression&#x27;,\n",
              "                 LogisticRegression(max_iter=50, random_state=42,\n",
              "                                    solver=&#x27;saga&#x27;))])</pre><b>In a Jupyter environment, please rerun this cell to show the HTML representation or trust the notebook. <br />On GitHub, the HTML representation is unable to render, please try loading this page with nbviewer.org.</b></div><div class=\"sk-container\" hidden><div class=\"sk-item sk-dashed-wrapped\"><div class=\"sk-label-container\"><div class=\"sk-label sk-toggleable\"><input class=\"sk-toggleable__control sk-hidden--visually\" id=\"sk-estimator-id-1\" type=\"checkbox\" ><label for=\"sk-estimator-id-1\" class=\"sk-toggleable__label sk-toggleable__label-arrow\">Pipeline</label><div class=\"sk-toggleable__content\"><pre>Pipeline(steps=[(&#x27;polynomialfeatures&#x27;, PolynomialFeatures()),\n",
              "                (&#x27;logisticregression&#x27;,\n",
              "                 LogisticRegression(max_iter=50, random_state=42,\n",
              "                                    solver=&#x27;saga&#x27;))])</pre></div></div></div><div class=\"sk-serial\"><div class=\"sk-item\"><div class=\"sk-estimator sk-toggleable\"><input class=\"sk-toggleable__control sk-hidden--visually\" id=\"sk-estimator-id-2\" type=\"checkbox\" ><label for=\"sk-estimator-id-2\" class=\"sk-toggleable__label sk-toggleable__label-arrow\">PolynomialFeatures</label><div class=\"sk-toggleable__content\"><pre>PolynomialFeatures()</pre></div></div></div><div class=\"sk-item\"><div class=\"sk-estimator sk-toggleable\"><input class=\"sk-toggleable__control sk-hidden--visually\" id=\"sk-estimator-id-3\" type=\"checkbox\" ><label for=\"sk-estimator-id-3\" class=\"sk-toggleable__label sk-toggleable__label-arrow\">LogisticRegression</label><div class=\"sk-toggleable__content\"><pre>LogisticRegression(max_iter=50, random_state=42, solver=&#x27;saga&#x27;)</pre></div></div></div></div></div></div></div>"
            ]
          },
          "metadata": {},
          "execution_count": 40
        }
      ],
      "source": [
        "from sklearn.pipeline import make_pipeline\n",
        "# Create a pipeline with polynomial features and logistic regression\n",
        "model4 = make_pipeline(PolynomialFeatures(2, include_bias=True), LogisticRegression(penalty='l2', solver = 'saga', max_iter = 50, random_state = 42))\n",
        "\n",
        "# Fit the model on the training data\n",
        "model4.fit(X_train, y_train)"
      ]
    },
    {
      "cell_type": "markdown",
      "metadata": {
        "id": "oN4UcmhGqqZr"
      },
      "source": [
        "Accuracy is increased slightly. Actually too slight. 🙊\n",
        "\n",
        "In general, it's not worth making a model more complex (which comes with less interpretability, etc.) if the performance gain is only marginal. Quite literally, it took a lot longer for that block of computation to run (with 50 iterations and a `saga` solver) relative to 1-iteration (with near instantaneous computation time)."
      ]
    },
    {
      "cell_type": "code",
      "execution_count": null,
      "metadata": {
        "id": "ckpYRe1fPsU2",
        "colab": {
          "base_uri": "https://localhost:8080/"
        },
        "outputId": "2bb306c5-124c-4eb9-98aa-c7b8e51a2a19"
      },
      "outputs": [
        {
          "output_type": "stream",
          "name": "stdout",
          "text": [
            "Test Accuracy: 0.8956722483120662\n"
          ]
        }
      ],
      "source": [
        "y_test_pred = model4.predict(X_test)\n",
        "\n",
        "print('Test Accuracy:', accuracy_score(y_test, y_test_pred))\n"
      ]
    },
    {
      "cell_type": "markdown",
      "metadata": {
        "id": "upEWivIOJfKt"
      },
      "source": [
        "Let's try an $\\ell_1$ regularization penalty, with a max of 50-iterations for our `saga` solver. The punchline is that we again don't see any marginal improvement that justifies the increased model complexity."
      ]
    },
    {
      "cell_type": "code",
      "execution_count": null,
      "metadata": {
        "id": "SEYHKvKD4YLa",
        "colab": {
          "base_uri": "https://localhost:8080/",
          "height": 162
        },
        "outputId": "a3a22c3b-c150-4054-cf19-c36b3912e13f"
      },
      "outputs": [
        {
          "output_type": "stream",
          "name": "stderr",
          "text": [
            "/usr/local/lib/python3.10/dist-packages/sklearn/linear_model/_sag.py:350: ConvergenceWarning: The max_iter was reached which means the coef_ did not converge\n",
            "  warnings.warn(\n"
          ]
        },
        {
          "output_type": "execute_result",
          "data": {
            "text/plain": [
              "Pipeline(steps=[('polynomialfeatures', PolynomialFeatures()),\n",
              "                ('logisticregression',\n",
              "                 LogisticRegression(max_iter=50, penalty='l1', random_state=42,\n",
              "                                    solver='saga'))])"
            ],
            "text/html": [
              "<style>#sk-container-id-2 {color: black;background-color: white;}#sk-container-id-2 pre{padding: 0;}#sk-container-id-2 div.sk-toggleable {background-color: white;}#sk-container-id-2 label.sk-toggleable__label {cursor: pointer;display: block;width: 100%;margin-bottom: 0;padding: 0.3em;box-sizing: border-box;text-align: center;}#sk-container-id-2 label.sk-toggleable__label-arrow:before {content: \"▸\";float: left;margin-right: 0.25em;color: #696969;}#sk-container-id-2 label.sk-toggleable__label-arrow:hover:before {color: black;}#sk-container-id-2 div.sk-estimator:hover label.sk-toggleable__label-arrow:before {color: black;}#sk-container-id-2 div.sk-toggleable__content {max-height: 0;max-width: 0;overflow: hidden;text-align: left;background-color: #f0f8ff;}#sk-container-id-2 div.sk-toggleable__content pre {margin: 0.2em;color: black;border-radius: 0.25em;background-color: #f0f8ff;}#sk-container-id-2 input.sk-toggleable__control:checked~div.sk-toggleable__content {max-height: 200px;max-width: 100%;overflow: auto;}#sk-container-id-2 input.sk-toggleable__control:checked~label.sk-toggleable__label-arrow:before {content: \"▾\";}#sk-container-id-2 div.sk-estimator input.sk-toggleable__control:checked~label.sk-toggleable__label {background-color: #d4ebff;}#sk-container-id-2 div.sk-label input.sk-toggleable__control:checked~label.sk-toggleable__label {background-color: #d4ebff;}#sk-container-id-2 input.sk-hidden--visually {border: 0;clip: rect(1px 1px 1px 1px);clip: rect(1px, 1px, 1px, 1px);height: 1px;margin: -1px;overflow: hidden;padding: 0;position: absolute;width: 1px;}#sk-container-id-2 div.sk-estimator {font-family: monospace;background-color: #f0f8ff;border: 1px dotted black;border-radius: 0.25em;box-sizing: border-box;margin-bottom: 0.5em;}#sk-container-id-2 div.sk-estimator:hover {background-color: #d4ebff;}#sk-container-id-2 div.sk-parallel-item::after {content: \"\";width: 100%;border-bottom: 1px solid gray;flex-grow: 1;}#sk-container-id-2 div.sk-label:hover label.sk-toggleable__label {background-color: #d4ebff;}#sk-container-id-2 div.sk-serial::before {content: \"\";position: absolute;border-left: 1px solid gray;box-sizing: border-box;top: 0;bottom: 0;left: 50%;z-index: 0;}#sk-container-id-2 div.sk-serial {display: flex;flex-direction: column;align-items: center;background-color: white;padding-right: 0.2em;padding-left: 0.2em;position: relative;}#sk-container-id-2 div.sk-item {position: relative;z-index: 1;}#sk-container-id-2 div.sk-parallel {display: flex;align-items: stretch;justify-content: center;background-color: white;position: relative;}#sk-container-id-2 div.sk-item::before, #sk-container-id-2 div.sk-parallel-item::before {content: \"\";position: absolute;border-left: 1px solid gray;box-sizing: border-box;top: 0;bottom: 0;left: 50%;z-index: -1;}#sk-container-id-2 div.sk-parallel-item {display: flex;flex-direction: column;z-index: 1;position: relative;background-color: white;}#sk-container-id-2 div.sk-parallel-item:first-child::after {align-self: flex-end;width: 50%;}#sk-container-id-2 div.sk-parallel-item:last-child::after {align-self: flex-start;width: 50%;}#sk-container-id-2 div.sk-parallel-item:only-child::after {width: 0;}#sk-container-id-2 div.sk-dashed-wrapped {border: 1px dashed gray;margin: 0 0.4em 0.5em 0.4em;box-sizing: border-box;padding-bottom: 0.4em;background-color: white;}#sk-container-id-2 div.sk-label label {font-family: monospace;font-weight: bold;display: inline-block;line-height: 1.2em;}#sk-container-id-2 div.sk-label-container {text-align: center;}#sk-container-id-2 div.sk-container {/* jupyter's `normalize.less` sets `[hidden] { display: none; }` but bootstrap.min.css set `[hidden] { display: none !important; }` so we also need the `!important` here to be able to override the default hidden behavior on the sphinx rendered scikit-learn.org. See: https://github.com/scikit-learn/scikit-learn/issues/21755 */display: inline-block !important;position: relative;}#sk-container-id-2 div.sk-text-repr-fallback {display: none;}</style><div id=\"sk-container-id-2\" class=\"sk-top-container\"><div class=\"sk-text-repr-fallback\"><pre>Pipeline(steps=[(&#x27;polynomialfeatures&#x27;, PolynomialFeatures()),\n",
              "                (&#x27;logisticregression&#x27;,\n",
              "                 LogisticRegression(max_iter=50, penalty=&#x27;l1&#x27;, random_state=42,\n",
              "                                    solver=&#x27;saga&#x27;))])</pre><b>In a Jupyter environment, please rerun this cell to show the HTML representation or trust the notebook. <br />On GitHub, the HTML representation is unable to render, please try loading this page with nbviewer.org.</b></div><div class=\"sk-container\" hidden><div class=\"sk-item sk-dashed-wrapped\"><div class=\"sk-label-container\"><div class=\"sk-label sk-toggleable\"><input class=\"sk-toggleable__control sk-hidden--visually\" id=\"sk-estimator-id-4\" type=\"checkbox\" ><label for=\"sk-estimator-id-4\" class=\"sk-toggleable__label sk-toggleable__label-arrow\">Pipeline</label><div class=\"sk-toggleable__content\"><pre>Pipeline(steps=[(&#x27;polynomialfeatures&#x27;, PolynomialFeatures()),\n",
              "                (&#x27;logisticregression&#x27;,\n",
              "                 LogisticRegression(max_iter=50, penalty=&#x27;l1&#x27;, random_state=42,\n",
              "                                    solver=&#x27;saga&#x27;))])</pre></div></div></div><div class=\"sk-serial\"><div class=\"sk-item\"><div class=\"sk-estimator sk-toggleable\"><input class=\"sk-toggleable__control sk-hidden--visually\" id=\"sk-estimator-id-5\" type=\"checkbox\" ><label for=\"sk-estimator-id-5\" class=\"sk-toggleable__label sk-toggleable__label-arrow\">PolynomialFeatures</label><div class=\"sk-toggleable__content\"><pre>PolynomialFeatures()</pre></div></div></div><div class=\"sk-item\"><div class=\"sk-estimator sk-toggleable\"><input class=\"sk-toggleable__control sk-hidden--visually\" id=\"sk-estimator-id-6\" type=\"checkbox\" ><label for=\"sk-estimator-id-6\" class=\"sk-toggleable__label sk-toggleable__label-arrow\">LogisticRegression</label><div class=\"sk-toggleable__content\"><pre>LogisticRegression(max_iter=50, penalty=&#x27;l1&#x27;, random_state=42, solver=&#x27;saga&#x27;)</pre></div></div></div></div></div></div></div>"
            ]
          },
          "metadata": {},
          "execution_count": 42
        }
      ],
      "source": [
        "from sklearn.pipeline import make_pipeline\n",
        "# Create a pipeline with polynomial features and logistic regression\n",
        "modell1 = make_pipeline(PolynomialFeatures(2, include_bias=True), LogisticRegression(penalty='l1', solver = 'saga', max_iter = 50, random_state = 42))\n",
        "\n",
        "# Fit the model on the training data\n",
        "modell1.fit(X_train, y_train)"
      ]
    },
    {
      "cell_type": "code",
      "execution_count": null,
      "metadata": {
        "id": "2qnyS7fV4YEE",
        "colab": {
          "base_uri": "https://localhost:8080/"
        },
        "outputId": "526cde5c-e8e3-42cd-9ee2-07d608145ed6"
      },
      "outputs": [
        {
          "output_type": "stream",
          "name": "stdout",
          "text": [
            "Test Accuracy: 0.895561564125674\n"
          ]
        }
      ],
      "source": [
        "y_test_pred = modell1.predict(X_test)\n",
        "\n",
        "print('Test Accuracy:', accuracy_score(y_test, y_test_pred))\n"
      ]
    },
    {
      "cell_type": "markdown",
      "metadata": {
        "id": "QcaIDdAcJtqN"
      },
      "source": [
        "**Classification Report for Logistic Regression**"
      ]
    },
    {
      "cell_type": "code",
      "execution_count": null,
      "metadata": {
        "id": "YxtlgEVV4YAe",
        "colab": {
          "base_uri": "https://localhost:8080/"
        },
        "outputId": "514e8bfa-d03d-43fb-c696-524b1e3bbd9e"
      },
      "outputs": [
        {
          "output_type": "stream",
          "name": "stdout",
          "text": [
            "              precision    recall  f1-score   support\n",
            "\n",
            "  Fully Paid       0.92      0.95      0.94     52015\n",
            " Charged Off       0.74      0.64      0.69     11228\n",
            "\n",
            "    accuracy                           0.90     63243\n",
            "   macro avg       0.83      0.80      0.81     63243\n",
            "weighted avg       0.89      0.90      0.89     63243\n",
            "\n"
          ]
        }
      ],
      "source": [
        "from sklearn.metrics import classification_report\n",
        "target_names = ['Fully Paid', 'Charged Off']\n",
        "print(classification_report(y_test, y_test_pred, target_names = target_names))"
      ]
    },
    {
      "cell_type": "markdown",
      "metadata": {
        "id": "TGCXU_pZTs5P"
      },
      "source": [
        "### **Support Vector Classification**"
      ]
    },
    {
      "cell_type": "markdown",
      "metadata": {
        "id": "C-JtQBBArB-S"
      },
      "source": [
        "Enough of logistic. Now try some another method or another model.\n",
        "\n",
        "we are going for support vector machine. New model. 😀\n",
        "\n"
      ]
    },
    {
      "cell_type": "code",
      "execution_count": null,
      "metadata": {
        "id": "_-UXCpChQFvr"
      },
      "outputs": [],
      "source": [
        "from sklearn.svm import SVC"
      ]
    },
    {
      "cell_type": "markdown",
      "metadata": {
        "id": "o7oNzrhErgiJ"
      },
      "source": [
        "#### Hyperparameter: `C`\n",
        "Training the model with our training data with a simple paramater C.\n",
        "Do we know what C does?\n",
        "\n",
        "Regularization parameter. The strength of the regularization is inversely proportional to C. The parameter is required to be strictly positive. The penalty is a squared l2 penalty. (https://scikit-learn.org/stable/modules/generated/sklearn.svm.SVC.html)\n",
        "\n",
        "What is the achieved accuracy with a Support Vector Classifier? Here, with a simple parameter and in a single shot, we got the same accuracy as we got from our optimized Logistic Regression models. That is great!!!\n"
      ]
    },
    {
      "cell_type": "code",
      "execution_count": null,
      "metadata": {
        "id": "qnC1Htk4So8H"
      },
      "outputs": [],
      "source": [
        "# Fit SVM model\n",
        "svm = SVC(kernel='linear', C=1)\n",
        "svm.fit(X_train, y_train)\n",
        "\n",
        "# Make predictions on the training and test sets\n",
        "test_preds = svm.predict(X_test)\n",
        "\n",
        "print('Test Accuracy:', accuracy_score(y_test, test_preds))"
      ]
    },
    {
      "cell_type": "markdown",
      "metadata": {
        "id": "nypQxmxwsbd-"
      },
      "source": [
        "### Adjusting parameters of SVC\n",
        "Now, can we increase the accuracy by using SVC by adjusting our (default) parameter(s)? Let's see what happens when we try! Computation is cheap (enough).\n",
        "\n",
        "Using polynomial kernel with C=1, degree = 2 and gamma = auto.\n",
        "\n",
        "So what does all this means?\n",
        "\n",
        "**kernel** = Specifies the kernel type to be used in the algorithm.\n",
        "\n",
        "**degree** = Degree of the polynomial kernel function (‘poly’). Must be non-negative.\n",
        "\n",
        "**gamma** = Kernel coefficient for ‘rbf’, ‘poly’ and ‘sigmoid’.\n",
        "\n",
        "(https://scikit-learn.org/stable/modules/generated/sklearn.svm.SVC.html)\n",
        "\n",
        "\n",
        "Oops! We decrease our model performance relative to our vanilla SVC; ergo, if we were to use a Support Vector Classifier, we would choose the simpler model (which also has better performance)."
      ]
    },
    {
      "cell_type": "code",
      "execution_count": null,
      "metadata": {
        "id": "70Sq2qT9T5v1"
      },
      "outputs": [],
      "source": [
        "# Fit SVM model\n",
        "svm1 = SVC(kernel='rbf', C=1, degree = 2, gamma = 'auto')\n",
        "svm1.fit(X_train, y_train)\n",
        "\n",
        "# Make predictions on the training and test sets\n",
        "test_preds = svm1.predict(X_test)\n",
        "\n",
        "print('Test Accuracy:', accuracy_score(y_test, test_preds))"
      ]
    },
    {
      "cell_type": "markdown",
      "source": [
        "**Now, let's revisit the theory/intuition captured in the slide-deck before resuming with some of the remaining modeling techniques in practice.**"
      ],
      "metadata": {
        "id": "D4RcbwWwV3bp"
      }
    },
    {
      "cell_type": "markdown",
      "metadata": {
        "id": "taZn24JnpsEr"
      },
      "source": [
        "**KNN**"
      ]
    },
    {
      "cell_type": "code",
      "execution_count": null,
      "metadata": {
        "id": "oYVqMw4npS7U"
      },
      "outputs": [],
      "source": [
        "from sklearn.neighbors import KNeighborsClassifier"
      ]
    },
    {
      "cell_type": "markdown",
      "metadata": {
        "id": "fB0T6vpDtbdl"
      },
      "source": [
        "Let's try KNN. With 3 neighbour.\n",
        "\n",
        "No!! accuracy is not good as svm. 😓"
      ]
    },
    {
      "cell_type": "code",
      "execution_count": null,
      "metadata": {
        "colab": {
          "base_uri": "https://localhost:8080/"
        },
        "id": "qXpEqjhvZCH6",
        "outputId": "d3438212-5ca1-46c1-d10a-29dbd78024d6"
      },
      "outputs": [
        {
          "name": "stdout",
          "output_type": "stream",
          "text": [
            "Test Accuracy: 0.838258779627785\n"
          ]
        }
      ],
      "source": [
        "# Fit KNN model\n",
        "knn = KNeighborsClassifier(n_neighbors=3)\n",
        "knn.fit(X_train, y_train)\n",
        "\n",
        "test_preds = knn.predict(X_test)\n",
        "\n",
        "print('Test Accuracy:', accuracy_score(y_test, test_preds))"
      ]
    },
    {
      "cell_type": "markdown",
      "metadata": {
        "id": "DcXYYqmdttjI"
      },
      "source": [
        "Now let's go and try some parameter to see if knn can surpass svm.\n",
        "\n",
        "We are using neighbour=5 with ball_tree algo.\n",
        "\n",
        "What is this algorithm parameter doing here? 🤔\n",
        "\n",
        "algorithm = Algorithm used to compute the nearest neighbors\n",
        "\n",
        "(https://scikit-learn.org/stable/modules/generated/sklearn.neighbors.KNeighborsClassifier.html)\n",
        "\n",
        "\n",
        "Okay, so we didn't reach that level of svm with KNN here. May be bad luck!!"
      ]
    },
    {
      "cell_type": "code",
      "execution_count": null,
      "metadata": {
        "colab": {
          "base_uri": "https://localhost:8080/"
        },
        "id": "9r9_C-cfSDIr",
        "outputId": "544ee4eb-601f-452e-ec0b-aa3ed69ad13b"
      },
      "outputs": [
        {
          "name": "stdout",
          "output_type": "stream",
          "text": [
            "Test Accuracy: 0.8411365684739813\n"
          ]
        }
      ],
      "source": [
        "# Adding some extra parameter:\n",
        "# Fit KNN model\n",
        "knn = KNeighborsClassifier(n_neighbors=5, algorithm = 'ball_tree')  # A ball-tree is a space partitioning data-structure.\n",
        "knn.fit(X_train, y_train)\n",
        "\n",
        "test_preds = knn.predict(X_test)\n",
        "\n",
        "print('Test Accuracy:', accuracy_score(y_test, test_preds))"
      ]
    },
    {
      "cell_type": "markdown",
      "metadata": {
        "id": "DsdrSpMgdahc"
      },
      "source": [
        "**Gaussian Naive Bayes**"
      ]
    },
    {
      "cell_type": "code",
      "execution_count": null,
      "metadata": {
        "id": "Zmh2xtbHSwTg"
      },
      "outputs": [],
      "source": [
        "from sklearn.naive_bayes import GaussianNB"
      ]
    },
    {
      "cell_type": "markdown",
      "metadata": {
        "id": "gfzV1oh9ukwH"
      },
      "source": [
        "Looked into the models with parameters. You can try gaussian naive bayes."
      ]
    },
    {
      "cell_type": "code",
      "execution_count": null,
      "metadata": {
        "colab": {
          "base_uri": "https://localhost:8080/"
        },
        "id": "BLQ4QmTTdcU7",
        "outputId": "87f1d5bf-7d9e-4f4e-eb8d-393edf8223ff"
      },
      "outputs": [
        {
          "name": "stdout",
          "output_type": "stream",
          "text": [
            "Test Accuracy: 0.8661511945986117\n"
          ]
        }
      ],
      "source": [
        "# Fit Naive Bayes model\n",
        "nb = GaussianNB()\n",
        "nb.fit(X_train, y_train)\n",
        "\n",
        "test_preds = nb.predict(X_test)\n",
        "\n",
        "print('Test Accuracy:', accuracy_score(y_test, test_preds))"
      ]
    },
    {
      "cell_type": "markdown",
      "metadata": {
        "id": "GveiM_cZeixl"
      },
      "source": [
        "**Naive Bayes classifier for multivariate Bernoulli models**"
      ]
    },
    {
      "cell_type": "code",
      "execution_count": null,
      "metadata": {
        "id": "T-9yykzbespX"
      },
      "outputs": [],
      "source": [
        "from sklearn.naive_bayes import BernoulliNB\n",
        "from sklearn.model_selection import train_test_split, GridSearchCV"
      ]
    },
    {
      "cell_type": "markdown",
      "metadata": {
        "id": "TCZQV062uuJH"
      },
      "source": [
        "Using the bernoulli models."
      ]
    },
    {
      "cell_type": "code",
      "execution_count": null,
      "metadata": {
        "colab": {
          "base_uri": "https://localhost:8080/"
        },
        "id": "J8G04pnYdky5",
        "outputId": "8563cbb8-fc3f-4a1b-9443-7521d4b8de9c"
      },
      "outputs": [
        {
          "name": "stdout",
          "output_type": "stream",
          "text": [
            "Test Accuracy: 0.8245655645684107\n"
          ]
        }
      ],
      "source": [
        "# Fit Bernoulli Naive Bayes model\n",
        "bnb = BernoulliNB()\n",
        "bnb.fit(X_train, y_train)\n",
        "\n",
        "test_preds = bnb.predict(X_test)\n",
        "\n",
        "print('Test Accuracy:', accuracy_score(y_test, test_preds))"
      ]
    },
    {
      "cell_type": "markdown",
      "metadata": {
        "id": "hsu2XYtpuyLd"
      },
      "source": [
        "Okay!!\n",
        "\n",
        "### A note on tuning parameters\n",
        "If we are trying to put some extra parameter in the model and train it then put another into the model and again retrain it. It will take a lot of time to finalise or identify those parameter for which we have got the highest accuracy. 😓\n",
        "\n",
        "Here many things comes into the field. Let's try one of them.\n",
        "\n",
        "### Idea: a simple Bernoulli model with grid-search for the single parameter $\\alpha$\n",
        "Model will be bernoulli. To search the best hyper parameter for this model we will use girdsearchcv.\n",
        "\n",
        "What is that means? 😶\n",
        "\n",
        "Finding the best combination of hyperparameters for a machine learning model. It performs an exhaustive search over a predefined grid of hyperparameter values and evaluates the model's performance for each combination."
      ]
    },
    {
      "cell_type": "code",
      "execution_count": null,
      "metadata": {
        "colab": {
          "base_uri": "https://localhost:8080/"
        },
        "id": "kHEpwjtoe0v2",
        "outputId": "b01c6305-0fe2-45cf-eca0-dfa4f8ab8b88"
      },
      "outputs": [
        {
          "name": "stdout",
          "output_type": "stream",
          "text": [
            "Best Hyperparameters: {'alpha': 0.01}\n",
            "Test Accuracy: 0.8245655645684107\n"
          ]
        }
      ],
      "source": [
        "# Define the hyperparameters to tune and the range of values to try\n",
        "params = {\n",
        "    'alpha': [0.01, 0.1, 1, 10, 100]\n",
        "}\n",
        "\n",
        "# Create a Bernoulli Naive Bayes model\n",
        "bnb = BernoulliNB()\n",
        "\n",
        "# Use GridSearchCV to find the best hyperparameters\n",
        "grid_search = GridSearchCV(bnb, params, cv=5)\n",
        "grid_search.fit(X_train, y_train)\n",
        "\n",
        "# Print the best hyperparameters\n",
        "print('Best Hyperparameters:', grid_search.best_params_)\n",
        "\n",
        "# Use the best hyperparameters to fit the model on the training data\n",
        "best_bnb = BernoulliNB(alpha=grid_search.best_params_['alpha'])\n",
        "best_bnb.fit(X_train, y_train)\n",
        "\n",
        "test_preds = best_bnb.predict(X_test)\n",
        "\n",
        "print('Test Accuracy:', accuracy_score(y_test, test_preds))"
      ]
    },
    {
      "cell_type": "markdown",
      "metadata": {
        "id": "9v3jCelOnF6p"
      },
      "source": [
        "Here we found the best parameter and accuracy using that also. That is also not good as svm model.\n",
        "\n",
        "What can we do now?\n",
        "# Homework!\n",
        "We all need to try this search for best parameter for the svm model. Let's try and let us know what did you find?"
      ]
    },
    {
      "cell_type": "markdown",
      "metadata": {
        "id": "PCqzbMzPwPTf"
      },
      "source": [
        "# We've analyzed models using `Accuracy`, but what about other top-level metrics?\n",
        "Accuracy is one of the most commonly used evaluation metrics for classification models. It measures the proportion of correctly classified instances over the total number of instances in the dataset. While accuracy is an important metric, it is not the only factor to consider when evaluating a classification model.\n",
        "\n",
        "There are something called confusion matrix, classification report, precision, recall which we can get it from confusion matrix or directly by calling function of python sklearn.\n",
        "\n",
        "We need to look into it right?\n",
        "\n",
        "Let's try it by ourselves and let us know what did you understand?\n",
        "\n",
        "Link: https://medium.com/swlh/confusion-matrix-and-classification-report-88105288d48f"
      ]
    },
    {
      "cell_type": "markdown",
      "metadata": {
        "id": "waDSCKZB9oAa"
      },
      "source": [
        "**Task:** _Assess the model's performance_ using appropriate evaluation metrics, such as _accuracy, precision, recall, and F1-score_. This evaluation will provide insights into how well the model can predict loan approval outcomes.\n",
        "\n",
        "Provide insights and recommendations based on the model's predictions and feature importance. Analyze the impact of different features on loan approval decisions and identify key factors that significantly influence the outcome.\n",
        "\n",
        "Additionally, prepare a comprehensive **report** summarizing your findings and recommendations for improving the loan approval process based on the insights gained from the developed model.\n",
        "\n",
        "**Note**: Ensure that you apply suitable feature engineering techniques, and use appropriate validation strategies to ensure reliable model performance. Additionally, consider the ethical implications of the model's predictions and address any biases that may arise during the analysis."
      ]
    },
    {
      "cell_type": "code",
      "execution_count": null,
      "metadata": {
        "id": "1IBJ5X-bfwbA"
      },
      "outputs": [],
      "source": []
    }
  ],
  "metadata": {
    "colab": {
      "provenance": []
    },
    "kernelspec": {
      "display_name": "Python 3",
      "name": "python3"
    },
    "language_info": {
      "name": "python"
    }
  },
  "nbformat": 4,
  "nbformat_minor": 0
}
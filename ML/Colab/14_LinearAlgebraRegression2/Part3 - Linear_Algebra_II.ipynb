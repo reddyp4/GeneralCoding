{
 "cells": [
  {
   "cell_type": "markdown",
   "id": "DJgX6k7_usNV",
   "metadata": {
    "id": "DJgX6k7_usNV"
   },
   "source": [
    "# POLYNOMIAL REGRESSION"
   ]
  },
  {
   "cell_type": "code",
   "execution_count": 20,
   "id": "c82e4edc",
   "metadata": {},
   "outputs": [],
   "source": [
    "from sklearn.preprocessing import PolynomialFeatures\n",
    "from sklearn.linear_model import LinearRegression\n",
    "from sklearn.metrics import r2_score\n",
    "import numpy as np\n",
    "import pandas as pd\n",
    "import sklearn.datasets as datasets\n",
    "import matplotlib.pyplot as plt\n",
    "import seaborn as sns\n",
    "from sklearn.model_selection import train_test_split\n",
    "from sklearn.metrics import mean_squared_error, r2_score, mean_absolute_error"
   ]
  },
  {
   "cell_type": "code",
   "execution_count": 21,
   "id": "9SN8LM4vydyE",
   "metadata": {
    "colab": {
     "base_uri": "https://localhost:8080/"
    },
    "id": "9SN8LM4vydyE",
    "outputId": "b013ff1f-c60a-4226-9e6d-c154cc0ed290"
   },
   "outputs": [],
   "source": [
    "\n",
    "# reading the dataset\n",
    "boston_data_path = \"/Users/alifakeri/Documents/IK/LinAlg/Boston.csv\"\n",
    "df = pd.read_csv(boston_data_path)\n",
    "Y = df['MEDV']\n",
    "X = df[['CRIM', 'ZN', 'INDUS', 'CHAS', 'NOX', 'RM', 'AGE', 'DIS', 'RAD', 'TAX', 'PTRATIO', 'LSTAT']]\n",
    "X = df.drop(columns=['MEDV'])\n",
    "\n",
    "X_train, X_test, Y_train, Y_test = train_test_split(X, Y, test_size = 0.33, random_state = 101)\n"
   ]
  },
  {
   "cell_type": "code",
   "execution_count": 22,
   "id": "2c577d3a",
   "metadata": {},
   "outputs": [
    {
     "name": "stdout",
     "output_type": "stream",
     "text": [
      "R-squared score on test data: 0.8522959891836887\n",
      "Adj-R-squared score on test data: 0.8407865857434567\n"
     ]
    }
   ],
   "source": [
    "\n",
    "# define polynomial degree\n",
    "degree = 2\n",
    "\n",
    "# create polynomial features\n",
    "poly = PolynomialFeatures(degree)\n",
    "\n",
    "\n",
    "X_train_poly = poly.fit_transform(X_train)\n",
    "\n",
    "# poly.fit_transform(X_train)\n",
    "# X_train_poly = poly.transform(X_train)\n",
    "\n",
    "\n",
    "\n",
    "X_test_poly = poly.transform(X_test)\n",
    "\n",
    "# create and fit polynomial regression model\n",
    "poly_model = LinearRegression()\n",
    "poly_model.fit(X_train_poly, Y_train)\n",
    "\n",
    "# predict on test data\n",
    "y_pred = poly_model.predict(X_test_poly)\n",
    "\n",
    "# calculate R-squared score on test data\n",
    "r2_score = r2_score(Y_test, y_pred)\n",
    "n = len(y_pred)\n",
    "p = X_test.shape[1]\n",
    "adj_r2_score = 1-(1-r2_score)*(n-1)/(n-p-1)\n",
    "print('R-squared score on test data:', r2_score)\n",
    "print('Adj-R-squared score on test data:', adj_r2_score)"
   ]
  },
  {
   "cell_type": "code",
   "execution_count": null,
   "id": "3cd892ba",
   "metadata": {},
   "outputs": [],
   "source": [
    "Simple regression: R2: 0.47\n",
    "        Mutliple Linear regression: 0.70\n",
    "            0.84"
   ]
  }
 ],
 "metadata": {
  "colab": {
   "provenance": []
  },
  "kernelspec": {
   "display_name": "Python 3 (ipykernel)",
   "language": "python",
   "name": "python3"
  },
  "language_info": {
   "codemirror_mode": {
    "name": "ipython",
    "version": 3
   },
   "file_extension": ".py",
   "mimetype": "text/x-python",
   "name": "python",
   "nbconvert_exporter": "python",
   "pygments_lexer": "ipython3",
   "version": "3.7.8"
  }
 },
 "nbformat": 4,
 "nbformat_minor": 5
}

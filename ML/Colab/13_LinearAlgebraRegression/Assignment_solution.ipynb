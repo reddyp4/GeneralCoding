{
  "nbformat": 4,
  "nbformat_minor": 0,
  "metadata": {
    "colab": {
      "provenance": []
    },
    "kernelspec": {
      "name": "python3",
      "display_name": "Python 3"
    },
    "language_info": {
      "name": "python"
    }
  },
  "cells": [
    {
      "cell_type": "code",
      "execution_count": null,
      "metadata": {
        "id": "1WUiRd4zCO7h"
      },
      "outputs": [],
      "source": [
        "import pandas as pd\n",
        "import numpy as np"
      ]
    },
    {
      "cell_type": "code",
      "source": [
        "A=np.array([[2,3,4],[2,3,4],[4,5,6]])"
      ],
      "metadata": {
        "id": "HmZTqxvtPLRJ"
      },
      "execution_count": null,
      "outputs": []
    },
    {
      "cell_type": "markdown",
      "source": [
        "##Write a Python function that takes a square matrix A as input and returns its eigenvalues and eigenvectors."
      ],
      "metadata": {
        "id": "j0SgO01sCf5x"
      }
    },
    {
      "cell_type": "code",
      "source": [
        "# Solution-1"
      ],
      "metadata": {
        "id": "4C1D2Yl-EQ17"
      },
      "execution_count": null,
      "outputs": []
    },
    {
      "cell_type": "code",
      "source": [
        "import numpy as np\n",
        "\n",
        "def eigen_decomp(A):\n",
        "    eigen_vals, eigen_vecs = np.linalg.eig(A)\n",
        "    return eigen_vals, eigen_vecs"
      ],
      "metadata": {
        "id": "sfv0X-HECmHU"
      },
      "execution_count": null,
      "outputs": []
    },
    {
      "cell_type": "code",
      "source": [
        "eigen_decomp(A)"
      ],
      "metadata": {
        "colab": {
          "base_uri": "https://localhost:8080/"
        },
        "id": "OX9NWqLQOSlC",
        "outputId": "2ad07b49-5546-4fb6-83ef-a8106769db64"
      },
      "execution_count": null,
      "outputs": [
        {
          "output_type": "execute_result",
          "data": {
            "text/plain": [
              "(array([ 1.15207973e+01, -5.20797289e-01, -3.23538281e-16]),\n",
              " array([[ 0.46336289,  0.50604863,  0.40824829],\n",
              "        [ 0.46336289,  0.50604863, -0.81649658],\n",
              "        [ 0.75537386, -0.69844797,  0.40824829]]))"
            ]
          },
          "metadata": {},
          "execution_count": 41
        }
      ]
    },
    {
      "cell_type": "markdown",
      "source": [
        "##Write a program which takes 2 arrays and return the dot product without using numpy"
      ],
      "metadata": {
        "id": "0ySFn8RmDjp2"
      }
    },
    {
      "cell_type": "code",
      "source": [
        "def element_wise_product(arr1, arr2):\n",
        "    if len(arr1) != len(arr2):\n",
        "        return \"Error: arrays must have same length\"\n",
        "    result = []\n",
        "    for i in range(len(arr1)):\n",
        "        result.append(arr1[i] * arr2[i])\n",
        "    return result\n"
      ],
      "metadata": {
        "id": "VFoNeAu1Co8U"
      },
      "execution_count": null,
      "outputs": []
    },
    {
      "cell_type": "code",
      "source": [
        "arr1 = [1, 2, 3]\n",
        "arr2 = [4, 5, 6]\n",
        "result = element_wise_product(arr1, arr2)\n",
        "print(result) # Output: [4, 10, 18]"
      ],
      "metadata": {
        "colab": {
          "base_uri": "https://localhost:8080/"
        },
        "id": "Y-Tx_-SPCvLn",
        "outputId": "6aadf877-7058-411d-e494-e3068b6337c7"
      },
      "execution_count": null,
      "outputs": [
        {
          "output_type": "stream",
          "name": "stdout",
          "text": [
            "[4, 10, 18]\n"
          ]
        }
      ]
    },
    {
      "cell_type": "markdown",
      "source": [
        "#Write a python function to calculate the determinant of a n by n matrix without using python package\n"
      ],
      "metadata": {
        "id": "OgX59lcLJ2Ph"
      }
    },
    {
      "cell_type": "code",
      "source": [
        "import copy\n",
        "\n",
        "def submatrix(a, n):\n",
        "    arr = copy.deepcopy(a)\n",
        "    if len(arr) == 2:\n",
        "        return arr\n",
        "    else:\n",
        "        arr.pop(0)\n",
        "        for j in arr:\n",
        "            j.pop(n)\n",
        "\n",
        "        return arr"
      ],
      "metadata": {
        "id": "OitgvjKkJ4qL"
      },
      "execution_count": null,
      "outputs": []
    },
    {
      "cell_type": "code",
      "source": [
        "def determinant(a):#FUNCTION TO FIND THE DETERMINANT OF A MATRIX\n",
        "    if len(a) == 1:\n",
        "        det = a[0]\n",
        "    elif len(a) == 2:\n",
        "        det = a[0][0]*a[1][1] - a[1][0]*a[0][1]\n",
        "    else:\n",
        "        det = 0\n",
        "        for i in range(len(a[0])):\n",
        "            det += ((-1)**i)*a[0][i]*determinant(submatrix(a,i))\n",
        "    return det"
      ],
      "metadata": {
        "id": "R72qCKZWKALG"
      },
      "execution_count": null,
      "outputs": []
    },
    {
      "cell_type": "code",
      "source": [
        "A = [2]\n",
        "B = [[1,2,4],[3,4,7],[5,6,7]]\n",
        "C = [[1,2,3,4],[4,3,5,6],[8,4,2,1],[3,2,4,1]]\n",
        "D = [[1,3,5,7,9],[4,6,3,7,5],[5,10,8,3,1],[1,5,3,7,6],[8,1,7,5,8]]\n",
        "print(\"The determinant of A --> \",determinant(A))\n",
        "print(\"The determinant of B --> \",determinant(B))\n",
        "print(\"The determinant of C --> \",determinant(C))\n",
        "print(\"The determinant of D --> \",determinant(D))"
      ],
      "metadata": {
        "colab": {
          "base_uri": "https://localhost:8080/"
        },
        "id": "amacuFnlKEie",
        "outputId": "49e1c78d-22eb-4f31-877d-5388b3b9fab5"
      },
      "execution_count": null,
      "outputs": [
        {
          "output_type": "stream",
          "name": "stdout",
          "text": [
            "The determinant of A -->  2\n",
            "The determinant of B -->  6\n",
            "The determinant of C -->  -99\n",
            "The determinant of D -->  -687\n"
          ]
        }
      ]
    },
    {
      "cell_type": "markdown",
      "source": [
        "#Write a python function to calculate rank of a matrix without using python package"
      ],
      "metadata": {
        "id": "kcE5srAAKHuD"
      }
    },
    {
      "cell_type": "code",
      "source": [
        "def swapRows(a,row1,row2):\n",
        "    a[row2],a[row1]=a[row1],a[row2]\n",
        "    return a\n",
        "\n",
        "def Row_Transformation(a,x,row1,row2):\n",
        "    for i in range(len(a[row2])):\n",
        "                a[row2][i]+=a[row1][i]*x\n",
        "    return a\n",
        "\n",
        "def MatrixRank(a):\n",
        "\n",
        "    ncol=len(a[0])\n",
        "    nrow=len(a)\n",
        "    rank=min(ncol,nrow)\n",
        "\n",
        "    if nrow>ncol:\n",
        "        b=[]\n",
        "        for m in range(ncol):\n",
        "            l=[]\n",
        "            for n in range(nrow):\n",
        "                l.append(a[n][m])\n",
        "            b.append(l)\n",
        "        a=b\n",
        "        ncol,nrow=nrow,ncol\n",
        "\n",
        "    for r in range(rank):\n",
        "        if a[r][r]!=0:\n",
        "            for j in range(r+1,nrow):\n",
        "                a=Row_Transformation(a,-(a[j][r]//a[r][r]),r,j)\n",
        "        else:\n",
        "            count1=True\n",
        "            for k in range(r+1,nrow):\n",
        "                if a[k][r]!=0:\n",
        "                    a=swapRows(a,r,k)\n",
        "                    count1=False\n",
        "                    break\n",
        "\n",
        "            if count1:\n",
        "                for i in range(nrow):\n",
        "                    a[i][r],a[i][rank-1]=a[i][rank-1],a[i][r]\n",
        "            nrow-=1\n",
        "\n",
        "\n",
        "        count2=0\n",
        "        for i in a:\n",
        "            if i==[0]*ncol:\n",
        "                count2+=1\n",
        "\n",
        "        return (rank-count2)"
      ],
      "metadata": {
        "id": "zGBJK2JAKGBc"
      },
      "execution_count": null,
      "outputs": []
    },
    {
      "cell_type": "code",
      "source": [
        "array = [[10,20,10],\n",
        "        [20,40,20],\n",
        "        [30,50,0]]\n",
        "\n",
        "MatrixRank(array)"
      ],
      "metadata": {
        "id": "5xcNZc6YKN92",
        "outputId": "8e8481ca-c68e-4c07-f1b4-2f1f2dd5cf88",
        "colab": {
          "base_uri": "https://localhost:8080/"
        }
      },
      "execution_count": null,
      "outputs": [
        {
          "output_type": "execute_result",
          "data": {
            "text/plain": [
              "2"
            ]
          },
          "metadata": {},
          "execution_count": 5
        }
      ]
    },
    {
      "cell_type": "code",
      "source": [],
      "metadata": {
        "id": "1x3vid8QKSRn"
      },
      "execution_count": null,
      "outputs": []
    }
  ]
}